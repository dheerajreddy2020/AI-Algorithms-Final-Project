{
 "cells": [
  {
   "cell_type": "markdown",
   "metadata": {
    "id": "92-h0tEpdoGp"
   },
   "source": [
    "# Load the Preprocessed dataset\n",
    "** Just to avoid all the Data Cleaning everytime"
   ]
  },
  {
   "cell_type": "markdown",
   "metadata": {
    "id": "g5tMU1kT6ZWP"
   },
   "source": [
    "## Feature Engineering"
   ]
  },
  {
   "cell_type": "code",
   "execution_count": 8,
   "metadata": {},
   "outputs": [],
   "source": [
    "import pandas as pd\n",
    "import matplotlib.pyplot as plt\n",
    "import os\n",
    "import numpy as np\n",
    "import seaborn as sns"
   ]
  },
  {
   "cell_type": "code",
   "execution_count": 3,
   "metadata": {
    "colab": {
     "base_uri": "https://localhost:8080/",
     "height": 211
    },
    "executionInfo": {
     "elapsed": 2098,
     "status": "ok",
     "timestamp": 1608335176905,
     "user": {
      "displayName": "DHEERAJ REDDY",
      "photoUrl": "https://lh3.googleusercontent.com/a-/AOh14Gh45EQPcAK5AL2_gtleWsUeAttrKpxePeuFgQ32RA=s64",
      "userId": "02470942850935130674"
     },
     "user_tz": 300
    },
    "id": "x1ZgXkKwi_vY",
    "outputId": "fba16541-d119-4db7-f5a7-64b486d6e041"
   },
   "outputs": [
    {
     "data": {
      "text/html": [
       "<div>\n",
       "<style scoped>\n",
       "    .dataframe tbody tr th:only-of-type {\n",
       "        vertical-align: middle;\n",
       "    }\n",
       "\n",
       "    .dataframe tbody tr th {\n",
       "        vertical-align: top;\n",
       "    }\n",
       "\n",
       "    .dataframe thead th {\n",
       "        text-align: right;\n",
       "    }\n",
       "</style>\n",
       "<table border=\"1\" class=\"dataframe\">\n",
       "  <thead>\n",
       "    <tr style=\"text-align: right;\">\n",
       "      <th></th>\n",
       "      <th>Store</th>\n",
       "      <th>DayOfWeek</th>\n",
       "      <th>Sales</th>\n",
       "      <th>Customers</th>\n",
       "      <th>Promo</th>\n",
       "      <th>SchoolHoliday</th>\n",
       "      <th>Year</th>\n",
       "      <th>Month</th>\n",
       "      <th>DayofYear</th>\n",
       "      <th>WeekofYear</th>\n",
       "      <th>StoreType</th>\n",
       "      <th>Assortment</th>\n",
       "      <th>CompetitionDistance</th>\n",
       "      <th>hasPromo2</th>\n",
       "      <th>IsCompetitionOpen</th>\n",
       "      <th>DayofMonth</th>\n",
       "    </tr>\n",
       "  </thead>\n",
       "  <tbody>\n",
       "    <tr>\n",
       "      <th>0</th>\n",
       "      <td>371</td>\n",
       "      <td>3</td>\n",
       "      <td>7374</td>\n",
       "      <td>606</td>\n",
       "      <td>0</td>\n",
       "      <td>1</td>\n",
       "      <td>2013</td>\n",
       "      <td>1</td>\n",
       "      <td>2</td>\n",
       "      <td>1</td>\n",
       "      <td>d</td>\n",
       "      <td>c</td>\n",
       "      <td>1970.0</td>\n",
       "      <td>0</td>\n",
       "      <td>0</td>\n",
       "      <td>2</td>\n",
       "    </tr>\n",
       "    <tr>\n",
       "      <th>1</th>\n",
       "      <td>1112</td>\n",
       "      <td>3</td>\n",
       "      <td>10797</td>\n",
       "      <td>892</td>\n",
       "      <td>0</td>\n",
       "      <td>1</td>\n",
       "      <td>2013</td>\n",
       "      <td>1</td>\n",
       "      <td>2</td>\n",
       "      <td>1</td>\n",
       "      <td>c</td>\n",
       "      <td>c</td>\n",
       "      <td>1880.0</td>\n",
       "      <td>0</td>\n",
       "      <td>0</td>\n",
       "      <td>2</td>\n",
       "    </tr>\n",
       "    <tr>\n",
       "      <th>2</th>\n",
       "      <td>1111</td>\n",
       "      <td>3</td>\n",
       "      <td>5097</td>\n",
       "      <td>505</td>\n",
       "      <td>0</td>\n",
       "      <td>1</td>\n",
       "      <td>2013</td>\n",
       "      <td>1</td>\n",
       "      <td>2</td>\n",
       "      <td>1</td>\n",
       "      <td>a</td>\n",
       "      <td>a</td>\n",
       "      <td>1900.0</td>\n",
       "      <td>0</td>\n",
       "      <td>0</td>\n",
       "      <td>2</td>\n",
       "    </tr>\n",
       "    <tr>\n",
       "      <th>3</th>\n",
       "      <td>1110</td>\n",
       "      <td>3</td>\n",
       "      <td>4126</td>\n",
       "      <td>507</td>\n",
       "      <td>0</td>\n",
       "      <td>1</td>\n",
       "      <td>2013</td>\n",
       "      <td>1</td>\n",
       "      <td>2</td>\n",
       "      <td>1</td>\n",
       "      <td>c</td>\n",
       "      <td>c</td>\n",
       "      <td>900.0</td>\n",
       "      <td>0</td>\n",
       "      <td>0</td>\n",
       "      <td>2</td>\n",
       "    </tr>\n",
       "    <tr>\n",
       "      <th>4</th>\n",
       "      <td>1109</td>\n",
       "      <td>3</td>\n",
       "      <td>4576</td>\n",
       "      <td>444</td>\n",
       "      <td>0</td>\n",
       "      <td>1</td>\n",
       "      <td>2013</td>\n",
       "      <td>1</td>\n",
       "      <td>2</td>\n",
       "      <td>1</td>\n",
       "      <td>c</td>\n",
       "      <td>a</td>\n",
       "      <td>3490.0</td>\n",
       "      <td>0</td>\n",
       "      <td>0</td>\n",
       "      <td>2</td>\n",
       "    </tr>\n",
       "  </tbody>\n",
       "</table>\n",
       "</div>"
      ],
      "text/plain": [
       "   Store  DayOfWeek  Sales  Customers  Promo  SchoolHoliday  Year  Month  \\\n",
       "0    371          3   7374        606      0              1  2013      1   \n",
       "1   1112          3  10797        892      0              1  2013      1   \n",
       "2   1111          3   5097        505      0              1  2013      1   \n",
       "3   1110          3   4126        507      0              1  2013      1   \n",
       "4   1109          3   4576        444      0              1  2013      1   \n",
       "\n",
       "   DayofYear  WeekofYear StoreType Assortment  CompetitionDistance  hasPromo2  \\\n",
       "0          2           1         d          c               1970.0          0   \n",
       "1          2           1         c          c               1880.0          0   \n",
       "2          2           1         a          a               1900.0          0   \n",
       "3          2           1         c          c                900.0          0   \n",
       "4          2           1         c          a               3490.0          0   \n",
       "\n",
       "   IsCompetitionOpen  DayofMonth  \n",
       "0                  0           2  \n",
       "1                  0           2  \n",
       "2                  0           2  \n",
       "3                  0           2  \n",
       "4                  0           2  "
      ]
     },
     "execution_count": 3,
     "metadata": {},
     "output_type": "execute_result"
    }
   ],
   "source": [
    "new_df = pd.read_csv('Pre_processed_data.csv')\n",
    "Preprocessed_df = new_df.copy()\n",
    "Preprocessed_df.dropna(inplace=True)\n",
    "Preprocessed_df = Preprocessed_df[Preprocessed_df.Open == 1]\n",
    "Preprocessed_df.drop('Open',inplace=True,axis=1)\n",
    "#Preprocessed_df['CompetitionDistance'] = np.where((Preprocessed_df.IsCompetitionOpen == 1) , Preprocessed_df['CompetitionDistance'], 0)\n",
    "Preprocessed_df.drop(['Promo2'],axis=1,inplace=True)\n",
    "Preprocessed_df.head()"
   ]
  },
  {
   "cell_type": "code",
   "execution_count": 4,
   "metadata": {
    "colab": {
     "base_uri": "https://localhost:8080/",
     "height": 281
    },
    "executionInfo": {
     "elapsed": 917,
     "status": "ok",
     "timestamp": 1608268273653,
     "user": {
      "displayName": "DHEERAJ REDDY",
      "photoUrl": "https://lh3.googleusercontent.com/a-/AOh14Gh45EQPcAK5AL2_gtleWsUeAttrKpxePeuFgQ32RA=s64",
      "userId": "02470942850935130674"
     },
     "user_tz": 300
    },
    "id": "EgMrH6Nq-mTs",
    "outputId": "0643e3d6-707a-414e-a3a0-b17b86c7c7d2"
   },
   "outputs": [
    {
     "data": {
      "text/plain": [
       "<matplotlib.axes._subplots.AxesSubplot at 0x2673e17a730>"
      ]
     },
     "execution_count": 4,
     "metadata": {},
     "output_type": "execute_result"
    },
    {
     "data": {
      "image/png": "[encoded data removed]",
      "text/plain": [
       "<Figure size 432x288 with 1 Axes>"
      ]
     },
     "metadata": {
      "needs_background": "light"
     },
     "output_type": "display_data"
    }
   ],
   "source": [
    "Preprocessed_df.CompetitionDistance.hist()"
   ]
  },
  {
   "cell_type": "code",
   "execution_count": 5,
   "metadata": {
    "colab": {
     "base_uri": "https://localhost:8080/"
    },
    "executionInfo": {
     "elapsed": 441,
     "status": "ok",
     "timestamp": 1608335181008,
     "user": {
      "displayName": "DHEERAJ REDDY",
      "photoUrl": "https://lh3.googleusercontent.com/a-/AOh14Gh45EQPcAK5AL2_gtleWsUeAttrKpxePeuFgQ32RA=s64",
      "userId": "02470942850935130674"
     },
     "user_tz": 300
    },
    "id": "ZK9tbxnHi_vZ",
    "outputId": "b135e569-b834-4180-e4df-ccab8b638748"
   },
   "outputs": [
    {
     "name": "stdout",
     "output_type": "stream",
     "text": [
      "['StoreType', 'Assortment']\n"
     ]
    },
    {
     "data": {
      "text/plain": [
       "2"
      ]
     },
     "execution_count": 5,
     "metadata": {},
     "output_type": "execute_result"
    }
   ],
   "source": [
    "temp=[]\n",
    "for a in Preprocessed_df.keys():\n",
    "    if not pd.api.types.is_numeric_dtype(Preprocessed_df[a]):\n",
    "        Preprocessed_df[a]=Preprocessed_df[a].astype('category').cat.as_ordered()\n",
    "        temp.append(a)\n",
    "        Preprocessed_df[a]=pd.Categorical(Preprocessed_df[a]).codes+1\n",
    "        \n",
    "print(temp)\n",
    "len(temp)"
   ]
  },
  {
   "cell_type": "code",
   "execution_count": 6,
   "metadata": {
    "colab": {
     "base_uri": "https://localhost:8080/",
     "height": 211
    },
    "executionInfo": {
     "elapsed": 454,
     "status": "ok",
     "timestamp": 1608335184068,
     "user": {
      "displayName": "DHEERAJ REDDY",
      "photoUrl": "https://lh3.googleusercontent.com/a-/AOh14Gh45EQPcAK5AL2_gtleWsUeAttrKpxePeuFgQ32RA=s64",
      "userId": "02470942850935130674"
     },
     "user_tz": 300
    },
    "id": "_A8O-Zgf_CJF",
    "outputId": "54cc24a0-d68b-49fa-ade7-bfb277787310"
   },
   "outputs": [
    {
     "data": {
      "text/html": [
       "<div>\n",
       "<style scoped>\n",
       "    .dataframe tbody tr th:only-of-type {\n",
       "        vertical-align: middle;\n",
       "    }\n",
       "\n",
       "    .dataframe tbody tr th {\n",
       "        vertical-align: top;\n",
       "    }\n",
       "\n",
       "    .dataframe thead th {\n",
       "        text-align: right;\n",
       "    }\n",
       "</style>\n",
       "<table border=\"1\" class=\"dataframe\">\n",
       "  <thead>\n",
       "    <tr style=\"text-align: right;\">\n",
       "      <th></th>\n",
       "      <th>Store</th>\n",
       "      <th>DayOfWeek</th>\n",
       "      <th>Sales</th>\n",
       "      <th>Customers</th>\n",
       "      <th>Promo</th>\n",
       "      <th>SchoolHoliday</th>\n",
       "      <th>Year</th>\n",
       "      <th>Month</th>\n",
       "      <th>DayofYear</th>\n",
       "      <th>WeekofYear</th>\n",
       "      <th>StoreType</th>\n",
       "      <th>Assortment</th>\n",
       "      <th>CompetitionDistance</th>\n",
       "      <th>hasPromo2</th>\n",
       "      <th>IsCompetitionOpen</th>\n",
       "      <th>DayofMonth</th>\n",
       "    </tr>\n",
       "  </thead>\n",
       "  <tbody>\n",
       "    <tr>\n",
       "      <th>0</th>\n",
       "      <td>371</td>\n",
       "      <td>3</td>\n",
       "      <td>7374</td>\n",
       "      <td>606</td>\n",
       "      <td>0</td>\n",
       "      <td>1</td>\n",
       "      <td>2013</td>\n",
       "      <td>1</td>\n",
       "      <td>2</td>\n",
       "      <td>1</td>\n",
       "      <td>4</td>\n",
       "      <td>3</td>\n",
       "      <td>1970.0</td>\n",
       "      <td>0</td>\n",
       "      <td>0</td>\n",
       "      <td>2</td>\n",
       "    </tr>\n",
       "    <tr>\n",
       "      <th>1</th>\n",
       "      <td>1112</td>\n",
       "      <td>3</td>\n",
       "      <td>10797</td>\n",
       "      <td>892</td>\n",
       "      <td>0</td>\n",
       "      <td>1</td>\n",
       "      <td>2013</td>\n",
       "      <td>1</td>\n",
       "      <td>2</td>\n",
       "      <td>1</td>\n",
       "      <td>3</td>\n",
       "      <td>3</td>\n",
       "      <td>1880.0</td>\n",
       "      <td>0</td>\n",
       "      <td>0</td>\n",
       "      <td>2</td>\n",
       "    </tr>\n",
       "    <tr>\n",
       "      <th>2</th>\n",
       "      <td>1111</td>\n",
       "      <td>3</td>\n",
       "      <td>5097</td>\n",
       "      <td>505</td>\n",
       "      <td>0</td>\n",
       "      <td>1</td>\n",
       "      <td>2013</td>\n",
       "      <td>1</td>\n",
       "      <td>2</td>\n",
       "      <td>1</td>\n",
       "      <td>1</td>\n",
       "      <td>1</td>\n",
       "      <td>1900.0</td>\n",
       "      <td>0</td>\n",
       "      <td>0</td>\n",
       "      <td>2</td>\n",
       "    </tr>\n",
       "    <tr>\n",
       "      <th>3</th>\n",
       "      <td>1110</td>\n",
       "      <td>3</td>\n",
       "      <td>4126</td>\n",
       "      <td>507</td>\n",
       "      <td>0</td>\n",
       "      <td>1</td>\n",
       "      <td>2013</td>\n",
       "      <td>1</td>\n",
       "      <td>2</td>\n",
       "      <td>1</td>\n",
       "      <td>3</td>\n",
       "      <td>3</td>\n",
       "      <td>900.0</td>\n",
       "      <td>0</td>\n",
       "      <td>0</td>\n",
       "      <td>2</td>\n",
       "    </tr>\n",
       "    <tr>\n",
       "      <th>4</th>\n",
       "      <td>1109</td>\n",
       "      <td>3</td>\n",
       "      <td>4576</td>\n",
       "      <td>444</td>\n",
       "      <td>0</td>\n",
       "      <td>1</td>\n",
       "      <td>2013</td>\n",
       "      <td>1</td>\n",
       "      <td>2</td>\n",
       "      <td>1</td>\n",
       "      <td>3</td>\n",
       "      <td>1</td>\n",
       "      <td>3490.0</td>\n",
       "      <td>0</td>\n",
       "      <td>0</td>\n",
       "      <td>2</td>\n",
       "    </tr>\n",
       "  </tbody>\n",
       "</table>\n",
       "</div>"
      ],
      "text/plain": [
       "   Store  DayOfWeek  Sales  Customers  Promo  SchoolHoliday  Year  Month  \\\n",
       "0    371          3   7374        606      0              1  2013      1   \n",
       "1   1112          3  10797        892      0              1  2013      1   \n",
       "2   1111          3   5097        505      0              1  2013      1   \n",
       "3   1110          3   4126        507      0              1  2013      1   \n",
       "4   1109          3   4576        444      0              1  2013      1   \n",
       "\n",
       "   DayofYear  WeekofYear  StoreType  Assortment  CompetitionDistance  \\\n",
       "0          2           1          4           3               1970.0   \n",
       "1          2           1          3           3               1880.0   \n",
       "2          2           1          1           1               1900.0   \n",
       "3          2           1          3           3                900.0   \n",
       "4          2           1          3           1               3490.0   \n",
       "\n",
       "   hasPromo2  IsCompetitionOpen  DayofMonth  \n",
       "0          0                  0           2  \n",
       "1          0                  0           2  \n",
       "2          0                  0           2  \n",
       "3          0                  0           2  \n",
       "4          0                  0           2  "
      ]
     },
     "execution_count": 6,
     "metadata": {},
     "output_type": "execute_result"
    }
   ],
   "source": [
    "Preprocessed_df.head()"
   ]
  },
  {
   "cell_type": "code",
   "execution_count": 9,
   "metadata": {
    "colab": {
     "base_uri": "https://localhost:8080/",
     "height": 1000
    },
    "executionInfo": {
     "elapsed": 2437,
     "status": "ok",
     "timestamp": 1608335189838,
     "user": {
      "displayName": "DHEERAJ REDDY",
      "photoUrl": "https://lh3.googleusercontent.com/a-/AOh14Gh45EQPcAK5AL2_gtleWsUeAttrKpxePeuFgQ32RA=s64",
      "userId": "02470942850935130674"
     },
     "user_tz": 300
    },
    "id": "Izoe1WQEi_vZ",
    "outputId": "0c6c0804-05f4-4b6f-a01f-dba351139c6c",
    "scrolled": true
   },
   "outputs": [
    {
     "data": {
      "image/png": "[encoded data removed]",
      "text/plain": [
       "<Figure size 1440x1440 with 2 Axes>"
      ]
     },
     "metadata": {
      "needs_background": "light"
     },
     "output_type": "display_data"
    }
   ],
   "source": [
    "corr=Preprocessed_df.corr()\n",
    "plt.figure(figsize=(20,20));\n",
    "mask = np.triu(np.ones_like(corr, dtype=bool))\n",
    "cmap = sns.diverging_palette(230, 20, as_cmap=True)\n",
    "sns.heatmap(corr, mask=mask, cmap=cmap, vmax=1.0,\n",
    "            square=True, linewidths=.5, cbar_kws={\"shrink\": .5});"
   ]
  },
  {
   "cell_type": "code",
   "execution_count": 10,
   "metadata": {
    "colab": {
     "base_uri": "https://localhost:8080/"
    },
    "executionInfo": {
     "elapsed": 740,
     "status": "ok",
     "timestamp": 1608268282550,
     "user": {
      "displayName": "DHEERAJ REDDY",
      "photoUrl": "https://lh3.googleusercontent.com/a-/AOh14Gh45EQPcAK5AL2_gtleWsUeAttrKpxePeuFgQ32RA=s64",
      "userId": "02470942850935130674"
     },
     "user_tz": 300
    },
    "id": "JqG-P28Gi_va",
    "outputId": "53d8667e-1eca-4fff-a0cb-283785f9e44c"
   },
   "outputs": [
    {
     "name": "stdout",
     "output_type": "stream",
     "text": [
      "Store                  0\n",
      "DayOfWeek              0\n",
      "Sales                  0\n",
      "Customers              0\n",
      "Promo                  0\n",
      "SchoolHoliday          0\n",
      "Year                   0\n",
      "Month                  0\n",
      "DayofYear              0\n",
      "WeekofYear             0\n",
      "StoreType              0\n",
      "Assortment             0\n",
      "CompetitionDistance    0\n",
      "hasPromo2              0\n",
      "IsCompetitionOpen      0\n",
      "DayofMonth             0\n",
      "dtype: int64\n"
     ]
    },
    {
     "data": {
      "text/plain": [
       "837708"
      ]
     },
     "execution_count": 10,
     "metadata": {},
     "output_type": "execute_result"
    }
   ],
   "source": [
    "print(Preprocessed_df.isna().sum())\n",
    "len(Preprocessed_df)"
   ]
  },
  {
   "cell_type": "code",
   "execution_count": 11,
   "metadata": {
    "id": "QntiXJ4nRPQm"
   },
   "outputs": [],
   "source": [
    "x = Preprocessed_df.drop(['Store','WeekofYear','Sales','Customers','Year'],axis=1)\n",
    "y = Preprocessed_df.Sales"
   ]
  },
  {
   "cell_type": "code",
   "execution_count": 12,
   "metadata": {
    "executionInfo": {
     "elapsed": 1163,
     "status": "ok",
     "timestamp": 1608335200794,
     "user": {
      "displayName": "DHEERAJ REDDY",
      "photoUrl": "https://lh3.googleusercontent.com/a-/AOh14Gh45EQPcAK5AL2_gtleWsUeAttrKpxePeuFgQ32RA=s64",
      "userId": "02470942850935130674"
     },
     "user_tz": 300
    },
    "id": "3H-YrR0PCD-3"
   },
   "outputs": [],
   "source": [
    "from sklearn.model_selection import train_test_split as tts\n",
    "x_train,x_val,y_train,y_val = tts(x,y,test_size=0.2)"
   ]
  },
  {
   "cell_type": "code",
   "execution_count": 33,
   "metadata": {
    "executionInfo": {
     "elapsed": 424,
     "status": "ok",
     "timestamp": 1608338651741,
     "user": {
      "displayName": "DHEERAJ REDDY",
      "photoUrl": "https://lh3.googleusercontent.com/a-/AOh14Gh45EQPcAK5AL2_gtleWsUeAttrKpxePeuFgQ32RA=s64",
      "userId": "02470942850935130674"
     },
     "user_tz": 300
    },
    "id": "Ym5JtFA2i_vc"
   },
   "outputs": [],
   "source": [
    "from sklearn.model_selection import train_test_split, cross_val_score, ShuffleSplit\n",
    "from sklearn.metrics import mean_squared_error as mse\n",
    "from sklearn.metrics import mean_absolute_error as mae\n",
    "def mspe(y_actual,y_predict):\n",
    "    y_act = y_actual[y_actual>0]\n",
    "    y_pred = y_predict[y_actual>0]\n",
    "    #y_act[y_act==0] = y_act.mean()\n",
    "\n",
    "    loss = (np.sqrt(np.mean(np.square((y_act - y_pred) / y_act))))\n",
    "    return loss\n",
    "def get_metrics(y_act,y_pred):\n",
    "    metrics = {}\n",
    "    metrics['Mean Squared Error'] = mse(y_act,y_pred)\n",
    "    metrics['Mean Absolute Error'] = mae(y_act,y_pred)\n",
    "    metrics['Mean Squared Percentage Error'] = mspe(y_act,y_pred)\n",
    "    return metrics"
   ]
  },
  {
   "cell_type": "code",
   "execution_count": 23,
   "metadata": {
    "colab": {
     "base_uri": "https://localhost:8080/"
    },
    "executionInfo": {
     "elapsed": 786919,
     "status": "ok",
     "timestamp": 1608336902369,
     "user": {
      "displayName": "DHEERAJ REDDY",
      "photoUrl": "https://lh3.googleusercontent.com/a-/AOh14Gh45EQPcAK5AL2_gtleWsUeAttrKpxePeuFgQ32RA=s64",
      "userId": "02470942850935130674"
     },
     "user_tz": 300
    },
    "id": "gcM8ZCtDi_vd",
    "outputId": "347ec9fd-a8cc-4d82-83d9-b0283a68d3db"
   },
   "outputs": [
    {
     "name": "stderr",
     "output_type": "stream",
     "text": [
      "[Parallel(n_jobs=-1)]: Using backend LokyBackend with 4 concurrent workers.\n",
      "[Parallel(n_jobs=-1)]: Done   5 out of   5 | elapsed: 13.1min finished\n"
     ]
    }
   ],
   "source": [
    "from sklearn.ensemble import RandomForestRegressor\n",
    "rfr = RandomForestRegressor()\n",
    "cv = ShuffleSplit(n_splits=5, test_size=0.2, random_state=42)\n",
    "cv_score = cross_val_score(rfr,x_train,y_train,cv=cv,\n",
    "                           verbose = 1,n_jobs=-1)"
   ]
  },
  {
   "cell_type": "code",
   "execution_count": 24,
   "metadata": {
    "colab": {
     "base_uri": "https://localhost:8080/"
    },
    "executionInfo": {
     "elapsed": 30836,
     "status": "ok",
     "timestamp": 1608337251222,
     "user": {
      "displayName": "DHEERAJ REDDY",
      "photoUrl": "https://lh3.googleusercontent.com/a-/AOh14Gh45EQPcAK5AL2_gtleWsUeAttrKpxePeuFgQ32RA=s64",
      "userId": "02470942850935130674"
     },
     "user_tz": 300
    },
    "id": "z5D0kJ_Li_ve",
    "outputId": "aa2d0d8b-bebb-44ca-adf8-33e0b94918af"
   },
   "outputs": [
    {
     "data": {
      "text/plain": [
       "RandomForestRegressor(bootstrap=True, ccp_alpha=0.0, criterion='mse',\n",
       "                      max_depth=None, max_features='auto', max_leaf_nodes=None,\n",
       "                      max_samples=100000, min_impurity_decrease=0.0,\n",
       "                      min_impurity_split=None, min_samples_leaf=1,\n",
       "                      min_samples_split=2, min_weight_fraction_leaf=0.0,\n",
       "                      n_estimators=100, n_jobs=-1, oob_score=False,\n",
       "                      random_state=42, verbose=0, warm_start=False)"
      ]
     },
     "execution_count": 24,
     "metadata": {
      "tags": []
     },
     "output_type": "execute_result"
    }
   ],
   "source": [
    "rfr = RandomForestRegressor(n_jobs=-1,\n",
    "                              random_state=42,\n",
    "                              max_samples=100000)\n",
    "rfr.fit(x_train,y_train)"
   ]
  },
  {
   "cell_type": "markdown",
   "metadata": {
    "id": "lyG50EuZUKwL"
   },
   "source": [
    "#### Random Forest Regressor Validation"
   ]
  },
  {
   "cell_type": "markdown",
   "metadata": {
    "id": "I0xy09o0YcP0"
   },
   "source": [
    "## Hyper-Parameter tuning"
   ]
  },
  {
   "cell_type": "code",
   "execution_count": 29,
   "metadata": {
    "colab": {
     "base_uri": "https://localhost:8080/"
    },
    "executionInfo": {
     "elapsed": 518078,
     "status": "ok",
     "timestamp": 1608338611583,
     "user": {
      "displayName": "DHEERAJ REDDY",
      "photoUrl": "https://lh3.googleusercontent.com/a-/AOh14Gh45EQPcAK5AL2_gtleWsUeAttrKpxePeuFgQ32RA=s64",
      "userId": "02470942850935130674"
     },
     "user_tz": 300
    },
    "id": "uM3b54J0_enk",
    "outputId": "f2300fac-0080-4853-f879-338322f0df8d"
   },
   "outputs": [
    {
     "name": "stdout",
     "output_type": "stream",
     "text": [
      "Fitting 3 folds for each of 100 candidates, totalling 300 fits\n",
      "[CV] n_estimators=170, min_samples_split=2, min_samples_leaf=9, max_samples=20000, max_features=sqrt, max_depth=5 \n"
     ]
    },
    {
     "name": "stderr",
     "output_type": "stream",
     "text": [
      "[Parallel(n_jobs=1)]: Using backend SequentialBackend with 1 concurrent workers.\n"
     ]
    },
    {
     "name": "stdout",
     "output_type": "stream",
     "text": [
      "[CV]  n_estimators=170, min_samples_split=2, min_samples_leaf=9, max_samples=20000, max_features=sqrt, max_depth=5, total=   3.8s\n",
      "[CV] n_estimators=170, min_samples_split=2, min_samples_leaf=9, max_samples=20000, max_features=sqrt, max_depth=5 \n"
     ]
    },
    {
     "name": "stderr",
     "output_type": "stream",
     "text": [
      "[Parallel(n_jobs=1)]: Done   1 out of   1 | elapsed:    3.8s remaining:    0.0s\n"
     ]
    },
    {
     "name": "stdout",
     "output_type": "stream",
     "text": [
      "[CV]  n_estimators=170, min_samples_split=2, min_samples_leaf=9, max_samples=20000, max_features=sqrt, max_depth=5, total=   2.4s\n",
      "[CV] n_estimators=170, min_samples_split=2, min_samples_leaf=9, max_samples=20000, max_features=sqrt, max_depth=5 \n",
      "[CV]  n_estimators=170, min_samples_split=2, min_samples_leaf=9, max_samples=20000, max_features=sqrt, max_depth=5, total=   2.4s\n",
      "[CV] n_estimators=130, min_samples_split=18, min_samples_leaf=3, max_samples=20000, max_features=sqrt, max_depth=10 \n",
      "[CV]  n_estimators=130, min_samples_split=18, min_samples_leaf=3, max_samples=20000, max_features=sqrt, max_depth=10, total=   3.0s\n",
      "[CV] n_estimators=130, min_samples_split=18, min_samples_leaf=3, max_samples=20000, max_features=sqrt, max_depth=10 \n",
      "[CV]  n_estimators=130, min_samples_split=18, min_samples_leaf=3, max_samples=20000, max_features=sqrt, max_depth=10, total=   2.9s\n",
      "[CV] n_estimators=130, min_samples_split=18, min_samples_leaf=3, max_samples=20000, max_features=sqrt, max_depth=10 \n",
      "[CV]  n_estimators=130, min_samples_split=18, min_samples_leaf=3, max_samples=20000, max_features=sqrt, max_depth=10, total=   2.9s\n",
      "[CV] n_estimators=30, min_samples_split=12, min_samples_leaf=9, max_samples=20000, max_features=0.5, max_depth=10 \n",
      "[CV]  n_estimators=30, min_samples_split=12, min_samples_leaf=9, max_samples=20000, max_features=0.5, max_depth=10, total=   1.0s\n",
      "[CV] n_estimators=30, min_samples_split=12, min_samples_leaf=9, max_samples=20000, max_features=0.5, max_depth=10 \n",
      "[CV]  n_estimators=30, min_samples_split=12, min_samples_leaf=9, max_samples=20000, max_features=0.5, max_depth=10, total=   1.0s\n",
      "[CV] n_estimators=30, min_samples_split=12, min_samples_leaf=9, max_samples=20000, max_features=0.5, max_depth=10 \n",
      "[CV]  n_estimators=30, min_samples_split=12, min_samples_leaf=9, max_samples=20000, max_features=0.5, max_depth=10, total=   1.0s\n",
      "[CV] n_estimators=90, min_samples_split=2, min_samples_leaf=1, max_samples=20000, max_features=auto, max_depth=3 \n",
      "[CV]  n_estimators=90, min_samples_split=2, min_samples_leaf=1, max_samples=20000, max_features=auto, max_depth=3, total=   1.7s\n",
      "[CV] n_estimators=90, min_samples_split=2, min_samples_leaf=1, max_samples=20000, max_features=auto, max_depth=3 \n",
      "[CV]  n_estimators=90, min_samples_split=2, min_samples_leaf=1, max_samples=20000, max_features=auto, max_depth=3, total=   1.7s\n",
      "[CV] n_estimators=90, min_samples_split=2, min_samples_leaf=1, max_samples=20000, max_features=auto, max_depth=3 \n",
      "[CV]  n_estimators=90, min_samples_split=2, min_samples_leaf=1, max_samples=20000, max_features=auto, max_depth=3, total=   1.8s\n",
      "[CV] n_estimators=30, min_samples_split=8, min_samples_leaf=13, max_samples=20000, max_features=auto, max_depth=10 \n",
      "[CV]  n_estimators=30, min_samples_split=8, min_samples_leaf=13, max_samples=20000, max_features=auto, max_depth=10, total=   1.4s\n",
      "[CV] n_estimators=30, min_samples_split=8, min_samples_leaf=13, max_samples=20000, max_features=auto, max_depth=10 \n",
      "[CV]  n_estimators=30, min_samples_split=8, min_samples_leaf=13, max_samples=20000, max_features=auto, max_depth=10, total=   1.4s\n",
      "[CV] n_estimators=30, min_samples_split=8, min_samples_leaf=13, max_samples=20000, max_features=auto, max_depth=10 \n",
      "[CV]  n_estimators=30, min_samples_split=8, min_samples_leaf=13, max_samples=20000, max_features=auto, max_depth=10, total=   1.4s\n",
      "[CV] n_estimators=130, min_samples_split=14, min_samples_leaf=5, max_samples=20000, max_features=0.5, max_depth=10 \n",
      "[CV]  n_estimators=130, min_samples_split=14, min_samples_leaf=5, max_samples=20000, max_features=0.5, max_depth=10, total=   3.7s\n",
      "[CV] n_estimators=130, min_samples_split=14, min_samples_leaf=5, max_samples=20000, max_features=0.5, max_depth=10 \n",
      "[CV]  n_estimators=130, min_samples_split=14, min_samples_leaf=5, max_samples=20000, max_features=0.5, max_depth=10, total=   3.6s\n",
      "[CV] n_estimators=130, min_samples_split=14, min_samples_leaf=5, max_samples=20000, max_features=0.5, max_depth=10 \n",
      "[CV]  n_estimators=130, min_samples_split=14, min_samples_leaf=5, max_samples=20000, max_features=0.5, max_depth=10, total=   3.6s\n",
      "[CV] n_estimators=90, min_samples_split=16, min_samples_leaf=1, max_samples=20000, max_features=0.5, max_depth=3 \n",
      "[CV]  n_estimators=90, min_samples_split=16, min_samples_leaf=1, max_samples=20000, max_features=0.5, max_depth=3, total=   1.3s\n",
      "[CV] n_estimators=90, min_samples_split=16, min_samples_leaf=1, max_samples=20000, max_features=0.5, max_depth=3 \n",
      "[CV]  n_estimators=90, min_samples_split=16, min_samples_leaf=1, max_samples=20000, max_features=0.5, max_depth=3, total=   1.3s\n",
      "[CV] n_estimators=90, min_samples_split=16, min_samples_leaf=1, max_samples=20000, max_features=0.5, max_depth=3 \n",
      "[CV]  n_estimators=90, min_samples_split=16, min_samples_leaf=1, max_samples=20000, max_features=0.5, max_depth=3, total=   1.3s\n",
      "[CV] n_estimators=130, min_samples_split=14, min_samples_leaf=5, max_samples=20000, max_features=sqrt, max_depth=5 \n",
      "[CV]  n_estimators=130, min_samples_split=14, min_samples_leaf=5, max_samples=20000, max_features=sqrt, max_depth=5, total=   2.0s\n",
      "[CV] n_estimators=130, min_samples_split=14, min_samples_leaf=5, max_samples=20000, max_features=sqrt, max_depth=5 \n",
      "[CV]  n_estimators=130, min_samples_split=14, min_samples_leaf=5, max_samples=20000, max_features=sqrt, max_depth=5, total=   2.0s\n",
      "[CV] n_estimators=130, min_samples_split=14, min_samples_leaf=5, max_samples=20000, max_features=sqrt, max_depth=5 \n",
      "[CV]  n_estimators=130, min_samples_split=14, min_samples_leaf=5, max_samples=20000, max_features=sqrt, max_depth=5, total=   2.0s\n",
      "[CV] n_estimators=170, min_samples_split=18, min_samples_leaf=13, max_samples=20000, max_features=0.5, max_depth=3 \n",
      "[CV]  n_estimators=170, min_samples_split=18, min_samples_leaf=13, max_samples=20000, max_features=0.5, max_depth=3, total=   2.2s\n",
      "[CV] n_estimators=170, min_samples_split=18, min_samples_leaf=13, max_samples=20000, max_features=0.5, max_depth=3 \n",
      "[CV]  n_estimators=170, min_samples_split=18, min_samples_leaf=13, max_samples=20000, max_features=0.5, max_depth=3, total=   2.1s\n",
      "[CV] n_estimators=170, min_samples_split=18, min_samples_leaf=13, max_samples=20000, max_features=0.5, max_depth=3 \n",
      "[CV]  n_estimators=170, min_samples_split=18, min_samples_leaf=13, max_samples=20000, max_features=0.5, max_depth=3, total=   2.1s\n",
      "[CV] n_estimators=10, min_samples_split=10, min_samples_leaf=7, max_samples=20000, max_features=1, max_depth=3 \n",
      "[CV]  n_estimators=10, min_samples_split=10, min_samples_leaf=7, max_samples=20000, max_features=1, max_depth=3, total=   0.4s\n",
      "[CV] n_estimators=10, min_samples_split=10, min_samples_leaf=7, max_samples=20000, max_features=1, max_depth=3 \n",
      "[CV]  n_estimators=10, min_samples_split=10, min_samples_leaf=7, max_samples=20000, max_features=1, max_depth=3, total=   0.4s\n",
      "[CV] n_estimators=10, min_samples_split=10, min_samples_leaf=7, max_samples=20000, max_features=1, max_depth=3 \n",
      "[CV]  n_estimators=10, min_samples_split=10, min_samples_leaf=7, max_samples=20000, max_features=1, max_depth=3, total=   0.4s\n",
      "[CV] n_estimators=70, min_samples_split=16, min_samples_leaf=13, max_samples=20000, max_features=0.5, max_depth=5 \n",
      "[CV]  n_estimators=70, min_samples_split=16, min_samples_leaf=13, max_samples=20000, max_features=0.5, max_depth=5, total=   1.4s\n",
      "[CV] n_estimators=70, min_samples_split=16, min_samples_leaf=13, max_samples=20000, max_features=0.5, max_depth=5 \n",
      "[CV]  n_estimators=70, min_samples_split=16, min_samples_leaf=13, max_samples=20000, max_features=0.5, max_depth=5, total=   1.4s\n",
      "[CV] n_estimators=70, min_samples_split=16, min_samples_leaf=13, max_samples=20000, max_features=0.5, max_depth=5 \n",
      "[CV]  n_estimators=70, min_samples_split=16, min_samples_leaf=13, max_samples=20000, max_features=0.5, max_depth=5, total=   1.4s\n",
      "[CV] n_estimators=150, min_samples_split=6, min_samples_leaf=11, max_samples=20000, max_features=sqrt, max_depth=10 \n",
      "[CV]  n_estimators=150, min_samples_split=6, min_samples_leaf=11, max_samples=20000, max_features=sqrt, max_depth=10, total=   3.3s\n",
      "[CV] n_estimators=150, min_samples_split=6, min_samples_leaf=11, max_samples=20000, max_features=sqrt, max_depth=10 \n",
      "[CV]  n_estimators=150, min_samples_split=6, min_samples_leaf=11, max_samples=20000, max_features=sqrt, max_depth=10, total=   3.3s\n",
      "[CV] n_estimators=150, min_samples_split=6, min_samples_leaf=11, max_samples=20000, max_features=sqrt, max_depth=10 \n",
      "[CV]  n_estimators=150, min_samples_split=6, min_samples_leaf=11, max_samples=20000, max_features=sqrt, max_depth=10, total=   3.3s\n",
      "[CV] n_estimators=10, min_samples_split=18, min_samples_leaf=1, max_samples=20000, max_features=sqrt, max_depth=5 \n",
      "[CV]  n_estimators=10, min_samples_split=18, min_samples_leaf=1, max_samples=20000, max_features=sqrt, max_depth=5, total=   0.4s\n",
      "[CV] n_estimators=10, min_samples_split=18, min_samples_leaf=1, max_samples=20000, max_features=sqrt, max_depth=5 \n",
      "[CV]  n_estimators=10, min_samples_split=18, min_samples_leaf=1, max_samples=20000, max_features=sqrt, max_depth=5, total=   0.4s\n",
      "[CV] n_estimators=10, min_samples_split=18, min_samples_leaf=1, max_samples=20000, max_features=sqrt, max_depth=5 \n",
      "[CV]  n_estimators=10, min_samples_split=18, min_samples_leaf=1, max_samples=20000, max_features=sqrt, max_depth=5, total=   0.4s\n",
      "[CV] n_estimators=90, min_samples_split=18, min_samples_leaf=19, max_samples=20000, max_features=0.5, max_depth=3 \n",
      "[CV]  n_estimators=90, min_samples_split=18, min_samples_leaf=19, max_samples=20000, max_features=0.5, max_depth=3, total=   1.3s\n",
      "[CV] n_estimators=90, min_samples_split=18, min_samples_leaf=19, max_samples=20000, max_features=0.5, max_depth=3 \n",
      "[CV]  n_estimators=90, min_samples_split=18, min_samples_leaf=19, max_samples=20000, max_features=0.5, max_depth=3, total=   1.3s\n",
      "[CV] n_estimators=90, min_samples_split=18, min_samples_leaf=19, max_samples=20000, max_features=0.5, max_depth=3 \n",
      "[CV]  n_estimators=90, min_samples_split=18, min_samples_leaf=19, max_samples=20000, max_features=0.5, max_depth=3, total=   1.3s\n",
      "[CV] n_estimators=70, min_samples_split=6, min_samples_leaf=19, max_samples=20000, max_features=1, max_depth=3 \n",
      "[CV]  n_estimators=70, min_samples_split=6, min_samples_leaf=19, max_samples=20000, max_features=1, max_depth=3, total=   0.8s\n",
      "[CV] n_estimators=70, min_samples_split=6, min_samples_leaf=19, max_samples=20000, max_features=1, max_depth=3 \n",
      "[CV]  n_estimators=70, min_samples_split=6, min_samples_leaf=19, max_samples=20000, max_features=1, max_depth=3, total=   0.8s\n",
      "[CV] n_estimators=70, min_samples_split=6, min_samples_leaf=19, max_samples=20000, max_features=1, max_depth=3 \n",
      "[CV]  n_estimators=70, min_samples_split=6, min_samples_leaf=19, max_samples=20000, max_features=1, max_depth=3, total=   0.8s\n",
      "[CV] n_estimators=50, min_samples_split=12, min_samples_leaf=9, max_samples=20000, max_features=sqrt, max_depth=5 \n",
      "[CV]  n_estimators=50, min_samples_split=12, min_samples_leaf=9, max_samples=20000, max_features=sqrt, max_depth=5, total=   0.9s\n",
      "[CV] n_estimators=50, min_samples_split=12, min_samples_leaf=9, max_samples=20000, max_features=sqrt, max_depth=5 \n",
      "[CV]  n_estimators=50, min_samples_split=12, min_samples_leaf=9, max_samples=20000, max_features=sqrt, max_depth=5, total=   0.9s\n",
      "[CV] n_estimators=50, min_samples_split=12, min_samples_leaf=9, max_samples=20000, max_features=sqrt, max_depth=5 \n",
      "[CV]  n_estimators=50, min_samples_split=12, min_samples_leaf=9, max_samples=20000, max_features=sqrt, max_depth=5, total=   0.9s\n",
      "[CV] n_estimators=70, min_samples_split=16, min_samples_leaf=3, max_samples=20000, max_features=1, max_depth=10 \n",
      "[CV]  n_estimators=70, min_samples_split=16, min_samples_leaf=3, max_samples=20000, max_features=1, max_depth=10, total=   1.4s\n",
      "[CV] n_estimators=70, min_samples_split=16, min_samples_leaf=3, max_samples=20000, max_features=1, max_depth=10 \n",
      "[CV]  n_estimators=70, min_samples_split=16, min_samples_leaf=3, max_samples=20000, max_features=1, max_depth=10, total=   1.4s\n",
      "[CV] n_estimators=70, min_samples_split=16, min_samples_leaf=3, max_samples=20000, max_features=1, max_depth=10 \n",
      "[CV]  n_estimators=70, min_samples_split=16, min_samples_leaf=3, max_samples=20000, max_features=1, max_depth=10, total=   1.4s\n",
      "[CV] n_estimators=90, min_samples_split=8, min_samples_leaf=19, max_samples=20000, max_features=1, max_depth=3 \n",
      "[CV]  n_estimators=90, min_samples_split=8, min_samples_leaf=19, max_samples=20000, max_features=1, max_depth=3, total=   0.9s\n",
      "[CV] n_estimators=90, min_samples_split=8, min_samples_leaf=19, max_samples=20000, max_features=1, max_depth=3 \n",
      "[CV]  n_estimators=90, min_samples_split=8, min_samples_leaf=19, max_samples=20000, max_features=1, max_depth=3, total=   1.0s\n",
      "[CV] n_estimators=90, min_samples_split=8, min_samples_leaf=19, max_samples=20000, max_features=1, max_depth=3 \n",
      "[CV]  n_estimators=90, min_samples_split=8, min_samples_leaf=19, max_samples=20000, max_features=1, max_depth=3, total=   1.0s\n",
      "[CV] n_estimators=10, min_samples_split=2, min_samples_leaf=3, max_samples=20000, max_features=0.5, max_depth=5 \n",
      "[CV]  n_estimators=10, min_samples_split=2, min_samples_leaf=3, max_samples=20000, max_features=0.5, max_depth=5, total=   0.5s\n",
      "[CV] n_estimators=10, min_samples_split=2, min_samples_leaf=3, max_samples=20000, max_features=0.5, max_depth=5 \n",
      "[CV]  n_estimators=10, min_samples_split=2, min_samples_leaf=3, max_samples=20000, max_features=0.5, max_depth=5, total=   0.5s\n",
      "[CV] n_estimators=10, min_samples_split=2, min_samples_leaf=3, max_samples=20000, max_features=0.5, max_depth=5 \n",
      "[CV]  n_estimators=10, min_samples_split=2, min_samples_leaf=3, max_samples=20000, max_features=0.5, max_depth=5, total=   0.5s\n",
      "[CV] n_estimators=30, min_samples_split=14, min_samples_leaf=13, max_samples=20000, max_features=1, max_depth=10 \n",
      "[CV]  n_estimators=30, min_samples_split=14, min_samples_leaf=13, max_samples=20000, max_features=1, max_depth=10, total=   0.7s\n",
      "[CV] n_estimators=30, min_samples_split=14, min_samples_leaf=13, max_samples=20000, max_features=1, max_depth=10 \n",
      "[CV]  n_estimators=30, min_samples_split=14, min_samples_leaf=13, max_samples=20000, max_features=1, max_depth=10, total=   0.7s\n",
      "[CV] n_estimators=30, min_samples_split=14, min_samples_leaf=13, max_samples=20000, max_features=1, max_depth=10 \n",
      "[CV]  n_estimators=30, min_samples_split=14, min_samples_leaf=13, max_samples=20000, max_features=1, max_depth=10, total=   0.7s\n",
      "[CV] n_estimators=130, min_samples_split=4, min_samples_leaf=3, max_samples=20000, max_features=0.5, max_depth=3 \n",
      "[CV]  n_estimators=130, min_samples_split=4, min_samples_leaf=3, max_samples=20000, max_features=0.5, max_depth=3, total=   1.7s\n",
      "[CV] n_estimators=130, min_samples_split=4, min_samples_leaf=3, max_samples=20000, max_features=0.5, max_depth=3 \n",
      "[CV]  n_estimators=130, min_samples_split=4, min_samples_leaf=3, max_samples=20000, max_features=0.5, max_depth=3, total=   1.6s\n",
      "[CV] n_estimators=130, min_samples_split=4, min_samples_leaf=3, max_samples=20000, max_features=0.5, max_depth=3 \n",
      "[CV]  n_estimators=130, min_samples_split=4, min_samples_leaf=3, max_samples=20000, max_features=0.5, max_depth=3, total=   1.6s\n",
      "[CV] n_estimators=90, min_samples_split=16, min_samples_leaf=3, max_samples=20000, max_features=1, max_depth=3 \n",
      "[CV]  n_estimators=90, min_samples_split=16, min_samples_leaf=3, max_samples=20000, max_features=1, max_depth=3, total=   1.0s\n",
      "[CV] n_estimators=90, min_samples_split=16, min_samples_leaf=3, max_samples=20000, max_features=1, max_depth=3 \n",
      "[CV]  n_estimators=90, min_samples_split=16, min_samples_leaf=3, max_samples=20000, max_features=1, max_depth=3, total=   1.0s\n",
      "[CV] n_estimators=90, min_samples_split=16, min_samples_leaf=3, max_samples=20000, max_features=1, max_depth=3 \n",
      "[CV]  n_estimators=90, min_samples_split=16, min_samples_leaf=3, max_samples=20000, max_features=1, max_depth=3, total=   1.0s\n",
      "[CV] n_estimators=110, min_samples_split=12, min_samples_leaf=9, max_samples=20000, max_features=sqrt, max_depth=10 \n",
      "[CV]  n_estimators=110, min_samples_split=12, min_samples_leaf=9, max_samples=20000, max_features=sqrt, max_depth=10, total=   2.4s\n",
      "[CV] n_estimators=110, min_samples_split=12, min_samples_leaf=9, max_samples=20000, max_features=sqrt, max_depth=10 \n",
      "[CV]  n_estimators=110, min_samples_split=12, min_samples_leaf=9, max_samples=20000, max_features=sqrt, max_depth=10, total=   2.4s\n",
      "[CV] n_estimators=110, min_samples_split=12, min_samples_leaf=9, max_samples=20000, max_features=sqrt, max_depth=10 \n",
      "[CV]  n_estimators=110, min_samples_split=12, min_samples_leaf=9, max_samples=20000, max_features=sqrt, max_depth=10, total=   2.4s\n",
      "[CV] n_estimators=70, min_samples_split=4, min_samples_leaf=9, max_samples=20000, max_features=auto, max_depth=10 \n",
      "[CV]  n_estimators=70, min_samples_split=4, min_samples_leaf=9, max_samples=20000, max_features=auto, max_depth=10, total=   3.1s\n",
      "[CV] n_estimators=70, min_samples_split=4, min_samples_leaf=9, max_samples=20000, max_features=auto, max_depth=10 \n",
      "[CV]  n_estimators=70, min_samples_split=4, min_samples_leaf=9, max_samples=20000, max_features=auto, max_depth=10, total=   3.0s\n",
      "[CV] n_estimators=70, min_samples_split=4, min_samples_leaf=9, max_samples=20000, max_features=auto, max_depth=10 \n",
      "[CV]  n_estimators=70, min_samples_split=4, min_samples_leaf=9, max_samples=20000, max_features=auto, max_depth=10, total=   3.0s\n",
      "[CV] n_estimators=110, min_samples_split=10, min_samples_leaf=7, max_samples=20000, max_features=0.5, max_depth=3 \n",
      "[CV]  n_estimators=110, min_samples_split=10, min_samples_leaf=7, max_samples=20000, max_features=0.5, max_depth=3, total=   1.5s\n",
      "[CV] n_estimators=110, min_samples_split=10, min_samples_leaf=7, max_samples=20000, max_features=0.5, max_depth=3 \n",
      "[CV]  n_estimators=110, min_samples_split=10, min_samples_leaf=7, max_samples=20000, max_features=0.5, max_depth=3, total=   1.5s\n",
      "[CV] n_estimators=110, min_samples_split=10, min_samples_leaf=7, max_samples=20000, max_features=0.5, max_depth=3 \n",
      "[CV]  n_estimators=110, min_samples_split=10, min_samples_leaf=7, max_samples=20000, max_features=0.5, max_depth=3, total=   1.5s\n",
      "[CV] n_estimators=90, min_samples_split=4, min_samples_leaf=19, max_samples=20000, max_features=1, max_depth=3 \n",
      "[CV]  n_estimators=90, min_samples_split=4, min_samples_leaf=19, max_samples=20000, max_features=1, max_depth=3, total=   1.0s\n",
      "[CV] n_estimators=90, min_samples_split=4, min_samples_leaf=19, max_samples=20000, max_features=1, max_depth=3 \n",
      "[CV]  n_estimators=90, min_samples_split=4, min_samples_leaf=19, max_samples=20000, max_features=1, max_depth=3, total=   1.0s\n",
      "[CV] n_estimators=90, min_samples_split=4, min_samples_leaf=19, max_samples=20000, max_features=1, max_depth=3 \n",
      "[CV]  n_estimators=90, min_samples_split=4, min_samples_leaf=19, max_samples=20000, max_features=1, max_depth=3, total=   1.0s\n",
      "[CV] n_estimators=30, min_samples_split=4, min_samples_leaf=3, max_samples=20000, max_features=sqrt, max_depth=5 \n",
      "[CV]  n_estimators=30, min_samples_split=4, min_samples_leaf=3, max_samples=20000, max_features=sqrt, max_depth=5, total=   0.7s\n",
      "[CV] n_estimators=30, min_samples_split=4, min_samples_leaf=3, max_samples=20000, max_features=sqrt, max_depth=5 \n",
      "[CV]  n_estimators=30, min_samples_split=4, min_samples_leaf=3, max_samples=20000, max_features=sqrt, max_depth=5, total=   0.8s\n",
      "[CV] n_estimators=30, min_samples_split=4, min_samples_leaf=3, max_samples=20000, max_features=sqrt, max_depth=5 \n",
      "[CV]  n_estimators=30, min_samples_split=4, min_samples_leaf=3, max_samples=20000, max_features=sqrt, max_depth=5, total=   0.7s\n",
      "[CV] n_estimators=170, min_samples_split=12, min_samples_leaf=15, max_samples=20000, max_features=auto, max_depth=3 \n",
      "[CV]  n_estimators=170, min_samples_split=12, min_samples_leaf=15, max_samples=20000, max_features=auto, max_depth=3, total=   3.1s\n",
      "[CV] n_estimators=170, min_samples_split=12, min_samples_leaf=15, max_samples=20000, max_features=auto, max_depth=3 \n",
      "[CV]  n_estimators=170, min_samples_split=12, min_samples_leaf=15, max_samples=20000, max_features=auto, max_depth=3, total=   3.2s\n",
      "[CV] n_estimators=170, min_samples_split=12, min_samples_leaf=15, max_samples=20000, max_features=auto, max_depth=3 \n",
      "[CV]  n_estimators=170, min_samples_split=12, min_samples_leaf=15, max_samples=20000, max_features=auto, max_depth=3, total=   3.2s\n",
      "[CV] n_estimators=190, min_samples_split=2, min_samples_leaf=7, max_samples=20000, max_features=sqrt, max_depth=10 \n",
      "[CV]  n_estimators=190, min_samples_split=2, min_samples_leaf=7, max_samples=20000, max_features=sqrt, max_depth=10, total=   4.3s\n",
      "[CV] n_estimators=190, min_samples_split=2, min_samples_leaf=7, max_samples=20000, max_features=sqrt, max_depth=10 \n",
      "[CV]  n_estimators=190, min_samples_split=2, min_samples_leaf=7, max_samples=20000, max_features=sqrt, max_depth=10, total=   4.2s\n",
      "[CV] n_estimators=190, min_samples_split=2, min_samples_leaf=7, max_samples=20000, max_features=sqrt, max_depth=10 \n",
      "[CV]  n_estimators=190, min_samples_split=2, min_samples_leaf=7, max_samples=20000, max_features=sqrt, max_depth=10, total=   4.1s\n",
      "[CV] n_estimators=90, min_samples_split=4, min_samples_leaf=13, max_samples=20000, max_features=1, max_depth=3 \n",
      "[CV]  n_estimators=90, min_samples_split=4, min_samples_leaf=13, max_samples=20000, max_features=1, max_depth=3, total=   1.0s\n",
      "[CV] n_estimators=90, min_samples_split=4, min_samples_leaf=13, max_samples=20000, max_features=1, max_depth=3 \n",
      "[CV]  n_estimators=90, min_samples_split=4, min_samples_leaf=13, max_samples=20000, max_features=1, max_depth=3, total=   1.0s\n",
      "[CV] n_estimators=90, min_samples_split=4, min_samples_leaf=13, max_samples=20000, max_features=1, max_depth=3 \n",
      "[CV]  n_estimators=90, min_samples_split=4, min_samples_leaf=13, max_samples=20000, max_features=1, max_depth=3, total=   1.0s\n",
      "[CV] n_estimators=170, min_samples_split=12, min_samples_leaf=11, max_samples=20000, max_features=0.5, max_depth=3 \n",
      "[CV]  n_estimators=170, min_samples_split=12, min_samples_leaf=11, max_samples=20000, max_features=0.5, max_depth=3, total=   2.1s\n",
      "[CV] n_estimators=170, min_samples_split=12, min_samples_leaf=11, max_samples=20000, max_features=0.5, max_depth=3 \n",
      "[CV]  n_estimators=170, min_samples_split=12, min_samples_leaf=11, max_samples=20000, max_features=0.5, max_depth=3, total=   2.2s\n",
      "[CV] n_estimators=170, min_samples_split=12, min_samples_leaf=11, max_samples=20000, max_features=0.5, max_depth=3 \n",
      "[CV]  n_estimators=170, min_samples_split=12, min_samples_leaf=11, max_samples=20000, max_features=0.5, max_depth=3, total=   2.2s\n",
      "[CV] n_estimators=10, min_samples_split=10, min_samples_leaf=9, max_samples=20000, max_features=1, max_depth=5 \n",
      "[CV]  n_estimators=10, min_samples_split=10, min_samples_leaf=9, max_samples=20000, max_features=1, max_depth=5, total=   0.4s\n",
      "[CV] n_estimators=10, min_samples_split=10, min_samples_leaf=9, max_samples=20000, max_features=1, max_depth=5 \n",
      "[CV]  n_estimators=10, min_samples_split=10, min_samples_leaf=9, max_samples=20000, max_features=1, max_depth=5, total=   0.4s\n",
      "[CV] n_estimators=10, min_samples_split=10, min_samples_leaf=9, max_samples=20000, max_features=1, max_depth=5 \n",
      "[CV]  n_estimators=10, min_samples_split=10, min_samples_leaf=9, max_samples=20000, max_features=1, max_depth=5, total=   0.4s\n",
      "[CV] n_estimators=130, min_samples_split=6, min_samples_leaf=3, max_samples=20000, max_features=auto, max_depth=3 \n",
      "[CV]  n_estimators=130, min_samples_split=6, min_samples_leaf=3, max_samples=20000, max_features=auto, max_depth=3, total=   2.5s\n",
      "[CV] n_estimators=130, min_samples_split=6, min_samples_leaf=3, max_samples=20000, max_features=auto, max_depth=3 \n",
      "[CV]  n_estimators=130, min_samples_split=6, min_samples_leaf=3, max_samples=20000, max_features=auto, max_depth=3, total=   2.4s\n",
      "[CV] n_estimators=130, min_samples_split=6, min_samples_leaf=3, max_samples=20000, max_features=auto, max_depth=3 \n",
      "[CV]  n_estimators=130, min_samples_split=6, min_samples_leaf=3, max_samples=20000, max_features=auto, max_depth=3, total=   2.4s\n",
      "[CV] n_estimators=10, min_samples_split=2, min_samples_leaf=9, max_samples=20000, max_features=sqrt, max_depth=5 \n",
      "[CV]  n_estimators=10, min_samples_split=2, min_samples_leaf=9, max_samples=20000, max_features=sqrt, max_depth=5, total=   0.4s\n",
      "[CV] n_estimators=10, min_samples_split=2, min_samples_leaf=9, max_samples=20000, max_features=sqrt, max_depth=5 \n",
      "[CV]  n_estimators=10, min_samples_split=2, min_samples_leaf=9, max_samples=20000, max_features=sqrt, max_depth=5, total=   0.4s\n",
      "[CV] n_estimators=10, min_samples_split=2, min_samples_leaf=9, max_samples=20000, max_features=sqrt, max_depth=5 \n",
      "[CV]  n_estimators=10, min_samples_split=2, min_samples_leaf=9, max_samples=20000, max_features=sqrt, max_depth=5, total=   0.5s\n",
      "[CV] n_estimators=50, min_samples_split=12, min_samples_leaf=5, max_samples=20000, max_features=0.5, max_depth=10 \n",
      "[CV]  n_estimators=50, min_samples_split=12, min_samples_leaf=5, max_samples=20000, max_features=0.5, max_depth=10, total=   1.6s\n",
      "[CV] n_estimators=50, min_samples_split=12, min_samples_leaf=5, max_samples=20000, max_features=0.5, max_depth=10 \n",
      "[CV]  n_estimators=50, min_samples_split=12, min_samples_leaf=5, max_samples=20000, max_features=0.5, max_depth=10, total=   1.6s\n",
      "[CV] n_estimators=50, min_samples_split=12, min_samples_leaf=5, max_samples=20000, max_features=0.5, max_depth=10 \n",
      "[CV]  n_estimators=50, min_samples_split=12, min_samples_leaf=5, max_samples=20000, max_features=0.5, max_depth=10, total=   1.6s\n",
      "[CV] n_estimators=130, min_samples_split=12, min_samples_leaf=9, max_samples=20000, max_features=1, max_depth=10 \n",
      "[CV]  n_estimators=130, min_samples_split=12, min_samples_leaf=9, max_samples=20000, max_features=1, max_depth=10, total=   2.2s\n",
      "[CV] n_estimators=130, min_samples_split=12, min_samples_leaf=9, max_samples=20000, max_features=1, max_depth=10 \n",
      "[CV]  n_estimators=130, min_samples_split=12, min_samples_leaf=9, max_samples=20000, max_features=1, max_depth=10, total=   2.3s\n",
      "[CV] n_estimators=130, min_samples_split=12, min_samples_leaf=9, max_samples=20000, max_features=1, max_depth=10 \n",
      "[CV]  n_estimators=130, min_samples_split=12, min_samples_leaf=9, max_samples=20000, max_features=1, max_depth=10, total=   2.3s\n",
      "[CV] n_estimators=110, min_samples_split=18, min_samples_leaf=5, max_samples=20000, max_features=sqrt, max_depth=10 \n",
      "[CV]  n_estimators=110, min_samples_split=18, min_samples_leaf=5, max_samples=20000, max_features=sqrt, max_depth=10, total=   2.5s\n",
      "[CV] n_estimators=110, min_samples_split=18, min_samples_leaf=5, max_samples=20000, max_features=sqrt, max_depth=10 \n",
      "[CV]  n_estimators=110, min_samples_split=18, min_samples_leaf=5, max_samples=20000, max_features=sqrt, max_depth=10, total=   2.6s\n",
      "[CV] n_estimators=110, min_samples_split=18, min_samples_leaf=5, max_samples=20000, max_features=sqrt, max_depth=10 \n",
      "[CV]  n_estimators=110, min_samples_split=18, min_samples_leaf=5, max_samples=20000, max_features=sqrt, max_depth=10, total=   2.6s\n",
      "[CV] n_estimators=150, min_samples_split=16, min_samples_leaf=7, max_samples=20000, max_features=1, max_depth=3 \n",
      "[CV]  n_estimators=150, min_samples_split=16, min_samples_leaf=7, max_samples=20000, max_features=1, max_depth=3, total=   1.4s\n",
      "[CV] n_estimators=150, min_samples_split=16, min_samples_leaf=7, max_samples=20000, max_features=1, max_depth=3 \n",
      "[CV]  n_estimators=150, min_samples_split=16, min_samples_leaf=7, max_samples=20000, max_features=1, max_depth=3, total=   1.4s\n",
      "[CV] n_estimators=150, min_samples_split=16, min_samples_leaf=7, max_samples=20000, max_features=1, max_depth=3 \n",
      "[CV]  n_estimators=150, min_samples_split=16, min_samples_leaf=7, max_samples=20000, max_features=1, max_depth=3, total=   1.4s\n",
      "[CV] n_estimators=170, min_samples_split=10, min_samples_leaf=17, max_samples=20000, max_features=1, max_depth=3 \n",
      "[CV]  n_estimators=170, min_samples_split=10, min_samples_leaf=17, max_samples=20000, max_features=1, max_depth=3, total=   1.6s\n",
      "[CV] n_estimators=170, min_samples_split=10, min_samples_leaf=17, max_samples=20000, max_features=1, max_depth=3 \n",
      "[CV]  n_estimators=170, min_samples_split=10, min_samples_leaf=17, max_samples=20000, max_features=1, max_depth=3, total=   1.6s\n",
      "[CV] n_estimators=170, min_samples_split=10, min_samples_leaf=17, max_samples=20000, max_features=1, max_depth=3 \n",
      "[CV]  n_estimators=170, min_samples_split=10, min_samples_leaf=17, max_samples=20000, max_features=1, max_depth=3, total=   1.7s\n",
      "[CV] n_estimators=30, min_samples_split=6, min_samples_leaf=13, max_samples=20000, max_features=sqrt, max_depth=5 \n",
      "[CV]  n_estimators=30, min_samples_split=6, min_samples_leaf=13, max_samples=20000, max_features=sqrt, max_depth=5, total=   0.8s\n",
      "[CV] n_estimators=30, min_samples_split=6, min_samples_leaf=13, max_samples=20000, max_features=sqrt, max_depth=5 \n",
      "[CV]  n_estimators=30, min_samples_split=6, min_samples_leaf=13, max_samples=20000, max_features=sqrt, max_depth=5, total=   0.8s\n",
      "[CV] n_estimators=30, min_samples_split=6, min_samples_leaf=13, max_samples=20000, max_features=sqrt, max_depth=5 \n",
      "[CV]  n_estimators=30, min_samples_split=6, min_samples_leaf=13, max_samples=20000, max_features=sqrt, max_depth=5, total=   0.8s\n",
      "[CV] n_estimators=50, min_samples_split=12, min_samples_leaf=1, max_samples=20000, max_features=1, max_depth=10 \n",
      "[CV]  n_estimators=50, min_samples_split=12, min_samples_leaf=1, max_samples=20000, max_features=1, max_depth=10, total=   1.2s\n",
      "[CV] n_estimators=50, min_samples_split=12, min_samples_leaf=1, max_samples=20000, max_features=1, max_depth=10 \n",
      "[CV]  n_estimators=50, min_samples_split=12, min_samples_leaf=1, max_samples=20000, max_features=1, max_depth=10, total=   1.2s\n",
      "[CV] n_estimators=50, min_samples_split=12, min_samples_leaf=1, max_samples=20000, max_features=1, max_depth=10 \n",
      "[CV]  n_estimators=50, min_samples_split=12, min_samples_leaf=1, max_samples=20000, max_features=1, max_depth=10, total=   1.1s\n",
      "[CV] n_estimators=90, min_samples_split=12, min_samples_leaf=3, max_samples=20000, max_features=0.5, max_depth=10 \n",
      "[CV]  n_estimators=90, min_samples_split=12, min_samples_leaf=3, max_samples=20000, max_features=0.5, max_depth=10, total=   2.5s\n",
      "[CV] n_estimators=90, min_samples_split=12, min_samples_leaf=3, max_samples=20000, max_features=0.5, max_depth=10 \n",
      "[CV]  n_estimators=90, min_samples_split=12, min_samples_leaf=3, max_samples=20000, max_features=0.5, max_depth=10, total=   2.5s\n",
      "[CV] n_estimators=90, min_samples_split=12, min_samples_leaf=3, max_samples=20000, max_features=0.5, max_depth=10 \n",
      "[CV]  n_estimators=90, min_samples_split=12, min_samples_leaf=3, max_samples=20000, max_features=0.5, max_depth=10, total=   2.6s\n",
      "[CV] n_estimators=30, min_samples_split=6, min_samples_leaf=11, max_samples=20000, max_features=auto, max_depth=3 \n",
      "[CV]  n_estimators=30, min_samples_split=6, min_samples_leaf=11, max_samples=20000, max_features=auto, max_depth=3, total=   0.8s\n",
      "[CV] n_estimators=30, min_samples_split=6, min_samples_leaf=11, max_samples=20000, max_features=auto, max_depth=3 \n",
      "[CV]  n_estimators=30, min_samples_split=6, min_samples_leaf=11, max_samples=20000, max_features=auto, max_depth=3, total=   0.8s\n",
      "[CV] n_estimators=30, min_samples_split=6, min_samples_leaf=11, max_samples=20000, max_features=auto, max_depth=3 \n",
      "[CV]  n_estimators=30, min_samples_split=6, min_samples_leaf=11, max_samples=20000, max_features=auto, max_depth=3, total=   0.8s\n",
      "[CV] n_estimators=170, min_samples_split=6, min_samples_leaf=15, max_samples=20000, max_features=1, max_depth=10 \n",
      "[CV]  n_estimators=170, min_samples_split=6, min_samples_leaf=15, max_samples=20000, max_features=1, max_depth=10, total=   2.8s\n",
      "[CV] n_estimators=170, min_samples_split=6, min_samples_leaf=15, max_samples=20000, max_features=1, max_depth=10 \n",
      "[CV]  n_estimators=170, min_samples_split=6, min_samples_leaf=15, max_samples=20000, max_features=1, max_depth=10, total=   2.8s\n",
      "[CV] n_estimators=170, min_samples_split=6, min_samples_leaf=15, max_samples=20000, max_features=1, max_depth=10 \n",
      "[CV]  n_estimators=170, min_samples_split=6, min_samples_leaf=15, max_samples=20000, max_features=1, max_depth=10, total=   2.8s\n",
      "[CV] n_estimators=50, min_samples_split=8, min_samples_leaf=9, max_samples=20000, max_features=1, max_depth=5 \n",
      "[CV]  n_estimators=50, min_samples_split=8, min_samples_leaf=9, max_samples=20000, max_features=1, max_depth=5, total=   0.8s\n",
      "[CV] n_estimators=50, min_samples_split=8, min_samples_leaf=9, max_samples=20000, max_features=1, max_depth=5 \n",
      "[CV]  n_estimators=50, min_samples_split=8, min_samples_leaf=9, max_samples=20000, max_features=1, max_depth=5, total=   0.8s\n",
      "[CV] n_estimators=50, min_samples_split=8, min_samples_leaf=9, max_samples=20000, max_features=1, max_depth=5 \n",
      "[CV]  n_estimators=50, min_samples_split=8, min_samples_leaf=9, max_samples=20000, max_features=1, max_depth=5, total=   0.8s\n",
      "[CV] n_estimators=30, min_samples_split=18, min_samples_leaf=1, max_samples=20000, max_features=1, max_depth=3 \n",
      "[CV]  n_estimators=30, min_samples_split=18, min_samples_leaf=1, max_samples=20000, max_features=1, max_depth=3, total=   0.5s\n",
      "[CV] n_estimators=30, min_samples_split=18, min_samples_leaf=1, max_samples=20000, max_features=1, max_depth=3 \n",
      "[CV]  n_estimators=30, min_samples_split=18, min_samples_leaf=1, max_samples=20000, max_features=1, max_depth=3, total=   0.5s\n",
      "[CV] n_estimators=30, min_samples_split=18, min_samples_leaf=1, max_samples=20000, max_features=1, max_depth=3 \n",
      "[CV]  n_estimators=30, min_samples_split=18, min_samples_leaf=1, max_samples=20000, max_features=1, max_depth=3, total=   0.5s\n",
      "[CV] n_estimators=10, min_samples_split=18, min_samples_leaf=13, max_samples=20000, max_features=1, max_depth=3 \n",
      "[CV]  n_estimators=10, min_samples_split=18, min_samples_leaf=13, max_samples=20000, max_features=1, max_depth=3, total=   0.4s\n",
      "[CV] n_estimators=10, min_samples_split=18, min_samples_leaf=13, max_samples=20000, max_features=1, max_depth=3 \n",
      "[CV]  n_estimators=10, min_samples_split=18, min_samples_leaf=13, max_samples=20000, max_features=1, max_depth=3, total=   0.4s\n",
      "[CV] n_estimators=10, min_samples_split=18, min_samples_leaf=13, max_samples=20000, max_features=1, max_depth=3 \n",
      "[CV]  n_estimators=10, min_samples_split=18, min_samples_leaf=13, max_samples=20000, max_features=1, max_depth=3, total=   0.4s\n",
      "[CV] n_estimators=190, min_samples_split=18, min_samples_leaf=5, max_samples=20000, max_features=0.5, max_depth=5 \n",
      "[CV]  n_estimators=190, min_samples_split=18, min_samples_leaf=5, max_samples=20000, max_features=0.5, max_depth=5, total=   3.2s\n",
      "[CV] n_estimators=190, min_samples_split=18, min_samples_leaf=5, max_samples=20000, max_features=0.5, max_depth=5 \n",
      "[CV]  n_estimators=190, min_samples_split=18, min_samples_leaf=5, max_samples=20000, max_features=0.5, max_depth=5, total=   3.2s\n",
      "[CV] n_estimators=190, min_samples_split=18, min_samples_leaf=5, max_samples=20000, max_features=0.5, max_depth=5 \n",
      "[CV]  n_estimators=190, min_samples_split=18, min_samples_leaf=5, max_samples=20000, max_features=0.5, max_depth=5, total=   3.2s\n",
      "[CV] n_estimators=50, min_samples_split=6, min_samples_leaf=9, max_samples=20000, max_features=0.5, max_depth=3 \n",
      "[CV]  n_estimators=50, min_samples_split=6, min_samples_leaf=9, max_samples=20000, max_features=0.5, max_depth=3, total=   0.9s\n",
      "[CV] n_estimators=50, min_samples_split=6, min_samples_leaf=9, max_samples=20000, max_features=0.5, max_depth=3 \n",
      "[CV]  n_estimators=50, min_samples_split=6, min_samples_leaf=9, max_samples=20000, max_features=0.5, max_depth=3, total=   0.9s\n",
      "[CV] n_estimators=50, min_samples_split=6, min_samples_leaf=9, max_samples=20000, max_features=0.5, max_depth=3 \n",
      "[CV]  n_estimators=50, min_samples_split=6, min_samples_leaf=9, max_samples=20000, max_features=0.5, max_depth=3, total=   0.9s\n",
      "[CV] n_estimators=70, min_samples_split=18, min_samples_leaf=11, max_samples=20000, max_features=auto, max_depth=3 \n",
      "[CV]  n_estimators=70, min_samples_split=18, min_samples_leaf=11, max_samples=20000, max_features=auto, max_depth=3, total=   1.4s\n",
      "[CV] n_estimators=70, min_samples_split=18, min_samples_leaf=11, max_samples=20000, max_features=auto, max_depth=3 \n",
      "[CV]  n_estimators=70, min_samples_split=18, min_samples_leaf=11, max_samples=20000, max_features=auto, max_depth=3, total=   1.4s\n",
      "[CV] n_estimators=70, min_samples_split=18, min_samples_leaf=11, max_samples=20000, max_features=auto, max_depth=3 \n",
      "[CV]  n_estimators=70, min_samples_split=18, min_samples_leaf=11, max_samples=20000, max_features=auto, max_depth=3, total=   1.4s\n",
      "[CV] n_estimators=170, min_samples_split=4, min_samples_leaf=9, max_samples=20000, max_features=auto, max_depth=3 \n",
      "[CV]  n_estimators=170, min_samples_split=4, min_samples_leaf=9, max_samples=20000, max_features=auto, max_depth=3, total=   3.0s\n",
      "[CV] n_estimators=170, min_samples_split=4, min_samples_leaf=9, max_samples=20000, max_features=auto, max_depth=3 \n",
      "[CV]  n_estimators=170, min_samples_split=4, min_samples_leaf=9, max_samples=20000, max_features=auto, max_depth=3, total=   3.1s\n",
      "[CV] n_estimators=170, min_samples_split=4, min_samples_leaf=9, max_samples=20000, max_features=auto, max_depth=3 \n",
      "[CV]  n_estimators=170, min_samples_split=4, min_samples_leaf=9, max_samples=20000, max_features=auto, max_depth=3, total=   3.0s\n",
      "[CV] n_estimators=110, min_samples_split=12, min_samples_leaf=5, max_samples=20000, max_features=1, max_depth=3 \n",
      "[CV]  n_estimators=110, min_samples_split=12, min_samples_leaf=5, max_samples=20000, max_features=1, max_depth=3, total=   1.1s\n",
      "[CV] n_estimators=110, min_samples_split=12, min_samples_leaf=5, max_samples=20000, max_features=1, max_depth=3 \n",
      "[CV]  n_estimators=110, min_samples_split=12, min_samples_leaf=5, max_samples=20000, max_features=1, max_depth=3, total=   1.1s\n",
      "[CV] n_estimators=110, min_samples_split=12, min_samples_leaf=5, max_samples=20000, max_features=1, max_depth=3 \n",
      "[CV]  n_estimators=110, min_samples_split=12, min_samples_leaf=5, max_samples=20000, max_features=1, max_depth=3, total=   1.1s\n",
      "[CV] n_estimators=110, min_samples_split=6, min_samples_leaf=5, max_samples=20000, max_features=1, max_depth=5 \n",
      "[CV]  n_estimators=110, min_samples_split=6, min_samples_leaf=5, max_samples=20000, max_features=1, max_depth=5, total=   1.3s\n",
      "[CV] n_estimators=110, min_samples_split=6, min_samples_leaf=5, max_samples=20000, max_features=1, max_depth=5 \n",
      "[CV]  n_estimators=110, min_samples_split=6, min_samples_leaf=5, max_samples=20000, max_features=1, max_depth=5, total=   1.3s\n",
      "[CV] n_estimators=110, min_samples_split=6, min_samples_leaf=5, max_samples=20000, max_features=1, max_depth=5 \n",
      "[CV]  n_estimators=110, min_samples_split=6, min_samples_leaf=5, max_samples=20000, max_features=1, max_depth=5, total=   1.4s\n",
      "[CV] n_estimators=150, min_samples_split=10, min_samples_leaf=13, max_samples=20000, max_features=auto, max_depth=10 \n",
      "[CV]  n_estimators=150, min_samples_split=10, min_samples_leaf=13, max_samples=20000, max_features=auto, max_depth=10, total=   6.1s\n",
      "[CV] n_estimators=150, min_samples_split=10, min_samples_leaf=13, max_samples=20000, max_features=auto, max_depth=10 \n",
      "[CV]  n_estimators=150, min_samples_split=10, min_samples_leaf=13, max_samples=20000, max_features=auto, max_depth=10, total=   6.1s\n",
      "[CV] n_estimators=150, min_samples_split=10, min_samples_leaf=13, max_samples=20000, max_features=auto, max_depth=10 \n",
      "[CV]  n_estimators=150, min_samples_split=10, min_samples_leaf=13, max_samples=20000, max_features=auto, max_depth=10, total=   6.2s\n",
      "[CV] n_estimators=130, min_samples_split=14, min_samples_leaf=9, max_samples=20000, max_features=1, max_depth=5 \n",
      "[CV]  n_estimators=130, min_samples_split=14, min_samples_leaf=9, max_samples=20000, max_features=1, max_depth=5, total=   1.6s\n",
      "[CV] n_estimators=130, min_samples_split=14, min_samples_leaf=9, max_samples=20000, max_features=1, max_depth=5 \n",
      "[CV]  n_estimators=130, min_samples_split=14, min_samples_leaf=9, max_samples=20000, max_features=1, max_depth=5, total=   1.6s\n",
      "[CV] n_estimators=130, min_samples_split=14, min_samples_leaf=9, max_samples=20000, max_features=1, max_depth=5 \n",
      "[CV]  n_estimators=130, min_samples_split=14, min_samples_leaf=9, max_samples=20000, max_features=1, max_depth=5, total=   1.6s\n",
      "[CV] n_estimators=130, min_samples_split=12, min_samples_leaf=13, max_samples=20000, max_features=1, max_depth=10 \n",
      "[CV]  n_estimators=130, min_samples_split=12, min_samples_leaf=13, max_samples=20000, max_features=1, max_depth=10, total=   2.3s\n",
      "[CV] n_estimators=130, min_samples_split=12, min_samples_leaf=13, max_samples=20000, max_features=1, max_depth=10 \n",
      "[CV]  n_estimators=130, min_samples_split=12, min_samples_leaf=13, max_samples=20000, max_features=1, max_depth=10, total=   2.2s\n",
      "[CV] n_estimators=130, min_samples_split=12, min_samples_leaf=13, max_samples=20000, max_features=1, max_depth=10 \n",
      "[CV]  n_estimators=130, min_samples_split=12, min_samples_leaf=13, max_samples=20000, max_features=1, max_depth=10, total=   2.2s\n",
      "[CV] n_estimators=70, min_samples_split=10, min_samples_leaf=3, max_samples=20000, max_features=sqrt, max_depth=3 \n",
      "[CV]  n_estimators=70, min_samples_split=10, min_samples_leaf=3, max_samples=20000, max_features=sqrt, max_depth=3, total=   1.0s\n",
      "[CV] n_estimators=70, min_samples_split=10, min_samples_leaf=3, max_samples=20000, max_features=sqrt, max_depth=3 \n",
      "[CV]  n_estimators=70, min_samples_split=10, min_samples_leaf=3, max_samples=20000, max_features=sqrt, max_depth=3, total=   1.0s\n",
      "[CV] n_estimators=70, min_samples_split=10, min_samples_leaf=3, max_samples=20000, max_features=sqrt, max_depth=3 \n",
      "[CV]  n_estimators=70, min_samples_split=10, min_samples_leaf=3, max_samples=20000, max_features=sqrt, max_depth=3, total=   0.9s\n",
      "[CV] n_estimators=70, min_samples_split=10, min_samples_leaf=9, max_samples=20000, max_features=0.5, max_depth=10 \n",
      "[CV]  n_estimators=70, min_samples_split=10, min_samples_leaf=9, max_samples=20000, max_features=0.5, max_depth=10, total=   2.1s\n",
      "[CV] n_estimators=70, min_samples_split=10, min_samples_leaf=9, max_samples=20000, max_features=0.5, max_depth=10 \n",
      "[CV]  n_estimators=70, min_samples_split=10, min_samples_leaf=9, max_samples=20000, max_features=0.5, max_depth=10, total=   2.1s\n",
      "[CV] n_estimators=70, min_samples_split=10, min_samples_leaf=9, max_samples=20000, max_features=0.5, max_depth=10 \n",
      "[CV]  n_estimators=70, min_samples_split=10, min_samples_leaf=9, max_samples=20000, max_features=0.5, max_depth=10, total=   2.1s\n",
      "[CV] n_estimators=70, min_samples_split=16, min_samples_leaf=13, max_samples=20000, max_features=1, max_depth=5 \n",
      "[CV]  n_estimators=70, min_samples_split=16, min_samples_leaf=13, max_samples=20000, max_features=1, max_depth=5, total=   1.0s\n",
      "[CV] n_estimators=70, min_samples_split=16, min_samples_leaf=13, max_samples=20000, max_features=1, max_depth=5 \n",
      "[CV]  n_estimators=70, min_samples_split=16, min_samples_leaf=13, max_samples=20000, max_features=1, max_depth=5, total=   1.0s\n",
      "[CV] n_estimators=70, min_samples_split=16, min_samples_leaf=13, max_samples=20000, max_features=1, max_depth=5 \n",
      "[CV]  n_estimators=70, min_samples_split=16, min_samples_leaf=13, max_samples=20000, max_features=1, max_depth=5, total=   1.0s\n",
      "[CV] n_estimators=110, min_samples_split=10, min_samples_leaf=13, max_samples=20000, max_features=auto, max_depth=5 \n",
      "[CV]  n_estimators=110, min_samples_split=10, min_samples_leaf=13, max_samples=20000, max_features=auto, max_depth=5, total=   2.8s\n",
      "[CV] n_estimators=110, min_samples_split=10, min_samples_leaf=13, max_samples=20000, max_features=auto, max_depth=5 \n",
      "[CV]  n_estimators=110, min_samples_split=10, min_samples_leaf=13, max_samples=20000, max_features=auto, max_depth=5, total=   2.8s\n",
      "[CV] n_estimators=110, min_samples_split=10, min_samples_leaf=13, max_samples=20000, max_features=auto, max_depth=5 \n",
      "[CV]  n_estimators=110, min_samples_split=10, min_samples_leaf=13, max_samples=20000, max_features=auto, max_depth=5, total=   2.9s\n",
      "[CV] n_estimators=70, min_samples_split=16, min_samples_leaf=17, max_samples=20000, max_features=0.5, max_depth=5 \n",
      "[CV]  n_estimators=70, min_samples_split=16, min_samples_leaf=17, max_samples=20000, max_features=0.5, max_depth=5, total=   1.4s\n",
      "[CV] n_estimators=70, min_samples_split=16, min_samples_leaf=17, max_samples=20000, max_features=0.5, max_depth=5 \n",
      "[CV]  n_estimators=70, min_samples_split=16, min_samples_leaf=17, max_samples=20000, max_features=0.5, max_depth=5, total=   1.4s\n",
      "[CV] n_estimators=70, min_samples_split=16, min_samples_leaf=17, max_samples=20000, max_features=0.5, max_depth=5 \n",
      "[CV]  n_estimators=70, min_samples_split=16, min_samples_leaf=17, max_samples=20000, max_features=0.5, max_depth=5, total=   1.4s\n",
      "[CV] n_estimators=110, min_samples_split=18, min_samples_leaf=1, max_samples=20000, max_features=sqrt, max_depth=5 \n",
      "[CV]  n_estimators=110, min_samples_split=18, min_samples_leaf=1, max_samples=20000, max_features=sqrt, max_depth=5, total=   1.7s\n",
      "[CV] n_estimators=110, min_samples_split=18, min_samples_leaf=1, max_samples=20000, max_features=sqrt, max_depth=5 \n",
      "[CV]  n_estimators=110, min_samples_split=18, min_samples_leaf=1, max_samples=20000, max_features=sqrt, max_depth=5, total=   1.7s\n",
      "[CV] n_estimators=110, min_samples_split=18, min_samples_leaf=1, max_samples=20000, max_features=sqrt, max_depth=5 \n",
      "[CV]  n_estimators=110, min_samples_split=18, min_samples_leaf=1, max_samples=20000, max_features=sqrt, max_depth=5, total=   1.7s\n",
      "[CV] n_estimators=90, min_samples_split=10, min_samples_leaf=13, max_samples=20000, max_features=1, max_depth=10 \n",
      "[CV]  n_estimators=90, min_samples_split=10, min_samples_leaf=13, max_samples=20000, max_features=1, max_depth=10, total=   1.6s\n",
      "[CV] n_estimators=90, min_samples_split=10, min_samples_leaf=13, max_samples=20000, max_features=1, max_depth=10 \n",
      "[CV]  n_estimators=90, min_samples_split=10, min_samples_leaf=13, max_samples=20000, max_features=1, max_depth=10, total=   1.6s\n",
      "[CV] n_estimators=90, min_samples_split=10, min_samples_leaf=13, max_samples=20000, max_features=1, max_depth=10 \n",
      "[CV]  n_estimators=90, min_samples_split=10, min_samples_leaf=13, max_samples=20000, max_features=1, max_depth=10, total=   1.6s\n",
      "[CV] n_estimators=190, min_samples_split=4, min_samples_leaf=1, max_samples=20000, max_features=sqrt, max_depth=3 \n",
      "[CV]  n_estimators=190, min_samples_split=4, min_samples_leaf=1, max_samples=20000, max_features=sqrt, max_depth=3, total=   2.0s\n",
      "[CV] n_estimators=190, min_samples_split=4, min_samples_leaf=1, max_samples=20000, max_features=sqrt, max_depth=3 \n",
      "[CV]  n_estimators=190, min_samples_split=4, min_samples_leaf=1, max_samples=20000, max_features=sqrt, max_depth=3, total=   2.0s\n",
      "[CV] n_estimators=190, min_samples_split=4, min_samples_leaf=1, max_samples=20000, max_features=sqrt, max_depth=3 \n",
      "[CV]  n_estimators=190, min_samples_split=4, min_samples_leaf=1, max_samples=20000, max_features=sqrt, max_depth=3, total=   2.0s\n",
      "[CV] n_estimators=190, min_samples_split=2, min_samples_leaf=17, max_samples=20000, max_features=1, max_depth=10 \n",
      "[CV]  n_estimators=190, min_samples_split=2, min_samples_leaf=17, max_samples=20000, max_features=1, max_depth=10, total=   3.1s\n",
      "[CV] n_estimators=190, min_samples_split=2, min_samples_leaf=17, max_samples=20000, max_features=1, max_depth=10 \n",
      "[CV]  n_estimators=190, min_samples_split=2, min_samples_leaf=17, max_samples=20000, max_features=1, max_depth=10, total=   3.1s\n",
      "[CV] n_estimators=190, min_samples_split=2, min_samples_leaf=17, max_samples=20000, max_features=1, max_depth=10 \n",
      "[CV]  n_estimators=190, min_samples_split=2, min_samples_leaf=17, max_samples=20000, max_features=1, max_depth=10, total=   3.2s\n",
      "[CV] n_estimators=70, min_samples_split=10, min_samples_leaf=19, max_samples=20000, max_features=sqrt, max_depth=10 \n",
      "[CV]  n_estimators=70, min_samples_split=10, min_samples_leaf=19, max_samples=20000, max_features=sqrt, max_depth=10, total=   1.7s\n",
      "[CV] n_estimators=70, min_samples_split=10, min_samples_leaf=19, max_samples=20000, max_features=sqrt, max_depth=10 \n",
      "[CV]  n_estimators=70, min_samples_split=10, min_samples_leaf=19, max_samples=20000, max_features=sqrt, max_depth=10, total=   1.7s\n",
      "[CV] n_estimators=70, min_samples_split=10, min_samples_leaf=19, max_samples=20000, max_features=sqrt, max_depth=10 \n",
      "[CV]  n_estimators=70, min_samples_split=10, min_samples_leaf=19, max_samples=20000, max_features=sqrt, max_depth=10, total=   1.7s\n",
      "[CV] n_estimators=170, min_samples_split=10, min_samples_leaf=7, max_samples=20000, max_features=auto, max_depth=3 \n",
      "[CV]  n_estimators=170, min_samples_split=10, min_samples_leaf=7, max_samples=20000, max_features=auto, max_depth=3, total=   3.0s\n",
      "[CV] n_estimators=170, min_samples_split=10, min_samples_leaf=7, max_samples=20000, max_features=auto, max_depth=3 \n",
      "[CV]  n_estimators=170, min_samples_split=10, min_samples_leaf=7, max_samples=20000, max_features=auto, max_depth=3, total=   3.0s\n",
      "[CV] n_estimators=170, min_samples_split=10, min_samples_leaf=7, max_samples=20000, max_features=auto, max_depth=3 \n",
      "[CV]  n_estimators=170, min_samples_split=10, min_samples_leaf=7, max_samples=20000, max_features=auto, max_depth=3, total=   3.0s\n",
      "[CV] n_estimators=150, min_samples_split=12, min_samples_leaf=3, max_samples=20000, max_features=sqrt, max_depth=3 \n",
      "[CV]  n_estimators=150, min_samples_split=12, min_samples_leaf=3, max_samples=20000, max_features=sqrt, max_depth=3, total=   1.7s\n",
      "[CV] n_estimators=150, min_samples_split=12, min_samples_leaf=3, max_samples=20000, max_features=sqrt, max_depth=3 \n",
      "[CV]  n_estimators=150, min_samples_split=12, min_samples_leaf=3, max_samples=20000, max_features=sqrt, max_depth=3, total=   1.7s\n",
      "[CV] n_estimators=150, min_samples_split=12, min_samples_leaf=3, max_samples=20000, max_features=sqrt, max_depth=3 \n",
      "[CV]  n_estimators=150, min_samples_split=12, min_samples_leaf=3, max_samples=20000, max_features=sqrt, max_depth=3, total=   1.8s\n",
      "[CV] n_estimators=130, min_samples_split=16, min_samples_leaf=3, max_samples=20000, max_features=sqrt, max_depth=3 \n",
      "[CV]  n_estimators=130, min_samples_split=16, min_samples_leaf=3, max_samples=20000, max_features=sqrt, max_depth=3, total=   1.4s\n",
      "[CV] n_estimators=130, min_samples_split=16, min_samples_leaf=3, max_samples=20000, max_features=sqrt, max_depth=3 \n",
      "[CV]  n_estimators=130, min_samples_split=16, min_samples_leaf=3, max_samples=20000, max_features=sqrt, max_depth=3, total=   1.5s\n",
      "[CV] n_estimators=130, min_samples_split=16, min_samples_leaf=3, max_samples=20000, max_features=sqrt, max_depth=3 \n",
      "[CV]  n_estimators=130, min_samples_split=16, min_samples_leaf=3, max_samples=20000, max_features=sqrt, max_depth=3, total=   1.4s\n",
      "[CV] n_estimators=90, min_samples_split=8, min_samples_leaf=11, max_samples=20000, max_features=0.5, max_depth=3 \n",
      "[CV]  n_estimators=90, min_samples_split=8, min_samples_leaf=11, max_samples=20000, max_features=0.5, max_depth=3, total=   1.3s\n",
      "[CV] n_estimators=90, min_samples_split=8, min_samples_leaf=11, max_samples=20000, max_features=0.5, max_depth=3 \n",
      "[CV]  n_estimators=90, min_samples_split=8, min_samples_leaf=11, max_samples=20000, max_features=0.5, max_depth=3, total=   1.3s\n",
      "[CV] n_estimators=90, min_samples_split=8, min_samples_leaf=11, max_samples=20000, max_features=0.5, max_depth=3 \n",
      "[CV]  n_estimators=90, min_samples_split=8, min_samples_leaf=11, max_samples=20000, max_features=0.5, max_depth=3, total=   1.3s\n",
      "[CV] n_estimators=110, min_samples_split=8, min_samples_leaf=5, max_samples=20000, max_features=auto, max_depth=5 \n",
      "[CV]  n_estimators=110, min_samples_split=8, min_samples_leaf=5, max_samples=20000, max_features=auto, max_depth=5, total=   2.8s\n",
      "[CV] n_estimators=110, min_samples_split=8, min_samples_leaf=5, max_samples=20000, max_features=auto, max_depth=5 \n",
      "[CV]  n_estimators=110, min_samples_split=8, min_samples_leaf=5, max_samples=20000, max_features=auto, max_depth=5, total=   2.8s\n",
      "[CV] n_estimators=110, min_samples_split=8, min_samples_leaf=5, max_samples=20000, max_features=auto, max_depth=5 \n",
      "[CV]  n_estimators=110, min_samples_split=8, min_samples_leaf=5, max_samples=20000, max_features=auto, max_depth=5, total=   2.8s\n",
      "[CV] n_estimators=50, min_samples_split=14, min_samples_leaf=7, max_samples=20000, max_features=auto, max_depth=10 \n",
      "[CV]  n_estimators=50, min_samples_split=14, min_samples_leaf=7, max_samples=20000, max_features=auto, max_depth=10, total=   2.3s\n",
      "[CV] n_estimators=50, min_samples_split=14, min_samples_leaf=7, max_samples=20000, max_features=auto, max_depth=10 \n",
      "[CV]  n_estimators=50, min_samples_split=14, min_samples_leaf=7, max_samples=20000, max_features=auto, max_depth=10, total=   2.3s\n",
      "[CV] n_estimators=50, min_samples_split=14, min_samples_leaf=7, max_samples=20000, max_features=auto, max_depth=10 \n",
      "[CV]  n_estimators=50, min_samples_split=14, min_samples_leaf=7, max_samples=20000, max_features=auto, max_depth=10, total=   2.3s\n",
      "[CV] n_estimators=70, min_samples_split=12, min_samples_leaf=17, max_samples=20000, max_features=sqrt, max_depth=5 \n",
      "[CV]  n_estimators=70, min_samples_split=12, min_samples_leaf=17, max_samples=20000, max_features=sqrt, max_depth=5, total=   1.2s\n",
      "[CV] n_estimators=70, min_samples_split=12, min_samples_leaf=17, max_samples=20000, max_features=sqrt, max_depth=5 \n",
      "[CV]  n_estimators=70, min_samples_split=12, min_samples_leaf=17, max_samples=20000, max_features=sqrt, max_depth=5, total=   1.2s\n",
      "[CV] n_estimators=70, min_samples_split=12, min_samples_leaf=17, max_samples=20000, max_features=sqrt, max_depth=5 \n",
      "[CV]  n_estimators=70, min_samples_split=12, min_samples_leaf=17, max_samples=20000, max_features=sqrt, max_depth=5, total=   1.2s\n",
      "[CV] n_estimators=30, min_samples_split=18, min_samples_leaf=17, max_samples=20000, max_features=auto, max_depth=10 \n",
      "[CV]  n_estimators=30, min_samples_split=18, min_samples_leaf=17, max_samples=20000, max_features=auto, max_depth=10, total=   1.4s\n",
      "[CV] n_estimators=30, min_samples_split=18, min_samples_leaf=17, max_samples=20000, max_features=auto, max_depth=10 \n",
      "[CV]  n_estimators=30, min_samples_split=18, min_samples_leaf=17, max_samples=20000, max_features=auto, max_depth=10, total=   1.5s\n",
      "[CV] n_estimators=30, min_samples_split=18, min_samples_leaf=17, max_samples=20000, max_features=auto, max_depth=10 \n",
      "[CV]  n_estimators=30, min_samples_split=18, min_samples_leaf=17, max_samples=20000, max_features=auto, max_depth=10, total=   1.4s\n",
      "[CV] n_estimators=150, min_samples_split=6, min_samples_leaf=13, max_samples=20000, max_features=auto, max_depth=3 \n",
      "[CV]  n_estimators=150, min_samples_split=6, min_samples_leaf=13, max_samples=20000, max_features=auto, max_depth=3, total=   2.7s\n",
      "[CV] n_estimators=150, min_samples_split=6, min_samples_leaf=13, max_samples=20000, max_features=auto, max_depth=3 \n",
      "[CV]  n_estimators=150, min_samples_split=6, min_samples_leaf=13, max_samples=20000, max_features=auto, max_depth=3, total=   2.7s\n",
      "[CV] n_estimators=150, min_samples_split=6, min_samples_leaf=13, max_samples=20000, max_features=auto, max_depth=3 \n",
      "[CV]  n_estimators=150, min_samples_split=6, min_samples_leaf=13, max_samples=20000, max_features=auto, max_depth=3, total=   2.7s\n",
      "[CV] n_estimators=50, min_samples_split=8, min_samples_leaf=1, max_samples=20000, max_features=auto, max_depth=5 \n",
      "[CV]  n_estimators=50, min_samples_split=8, min_samples_leaf=1, max_samples=20000, max_features=auto, max_depth=5, total=   1.5s\n",
      "[CV] n_estimators=50, min_samples_split=8, min_samples_leaf=1, max_samples=20000, max_features=auto, max_depth=5 \n",
      "[CV]  n_estimators=50, min_samples_split=8, min_samples_leaf=1, max_samples=20000, max_features=auto, max_depth=5, total=   1.5s\n",
      "[CV] n_estimators=50, min_samples_split=8, min_samples_leaf=1, max_samples=20000, max_features=auto, max_depth=5 \n",
      "[CV]  n_estimators=50, min_samples_split=8, min_samples_leaf=1, max_samples=20000, max_features=auto, max_depth=5, total=   1.5s\n",
      "[CV] n_estimators=90, min_samples_split=16, min_samples_leaf=19, max_samples=20000, max_features=0.5, max_depth=5 \n",
      "[CV]  n_estimators=90, min_samples_split=16, min_samples_leaf=19, max_samples=20000, max_features=0.5, max_depth=5, total=   1.7s\n",
      "[CV] n_estimators=90, min_samples_split=16, min_samples_leaf=19, max_samples=20000, max_features=0.5, max_depth=5 \n",
      "[CV]  n_estimators=90, min_samples_split=16, min_samples_leaf=19, max_samples=20000, max_features=0.5, max_depth=5, total=   1.7s\n",
      "[CV] n_estimators=90, min_samples_split=16, min_samples_leaf=19, max_samples=20000, max_features=0.5, max_depth=5 \n",
      "[CV]  n_estimators=90, min_samples_split=16, min_samples_leaf=19, max_samples=20000, max_features=0.5, max_depth=5, total=   1.7s\n",
      "[CV] n_estimators=110, min_samples_split=18, min_samples_leaf=1, max_samples=20000, max_features=0.5, max_depth=5 \n",
      "[CV]  n_estimators=110, min_samples_split=18, min_samples_leaf=1, max_samples=20000, max_features=0.5, max_depth=5, total=   2.0s\n",
      "[CV] n_estimators=110, min_samples_split=18, min_samples_leaf=1, max_samples=20000, max_features=0.5, max_depth=5 \n",
      "[CV]  n_estimators=110, min_samples_split=18, min_samples_leaf=1, max_samples=20000, max_features=0.5, max_depth=5, total=   2.0s\n",
      "[CV] n_estimators=110, min_samples_split=18, min_samples_leaf=1, max_samples=20000, max_features=0.5, max_depth=5 \n",
      "[CV]  n_estimators=110, min_samples_split=18, min_samples_leaf=1, max_samples=20000, max_features=0.5, max_depth=5, total=   2.0s\n",
      "[CV] n_estimators=30, min_samples_split=8, min_samples_leaf=17, max_samples=20000, max_features=sqrt, max_depth=5 \n",
      "[CV]  n_estimators=30, min_samples_split=8, min_samples_leaf=17, max_samples=20000, max_features=sqrt, max_depth=5, total=   0.8s\n",
      "[CV] n_estimators=30, min_samples_split=8, min_samples_leaf=17, max_samples=20000, max_features=sqrt, max_depth=5 \n",
      "[CV]  n_estimators=30, min_samples_split=8, min_samples_leaf=17, max_samples=20000, max_features=sqrt, max_depth=5, total=   0.8s\n",
      "[CV] n_estimators=30, min_samples_split=8, min_samples_leaf=17, max_samples=20000, max_features=sqrt, max_depth=5 \n",
      "[CV]  n_estimators=30, min_samples_split=8, min_samples_leaf=17, max_samples=20000, max_features=sqrt, max_depth=5, total=   0.9s\n",
      "[CV] n_estimators=30, min_samples_split=12, min_samples_leaf=1, max_samples=20000, max_features=1, max_depth=5 \n",
      "[CV]  n_estimators=30, min_samples_split=12, min_samples_leaf=1, max_samples=20000, max_features=1, max_depth=5, total=   0.7s\n",
      "[CV] n_estimators=30, min_samples_split=12, min_samples_leaf=1, max_samples=20000, max_features=1, max_depth=5 \n",
      "[CV]  n_estimators=30, min_samples_split=12, min_samples_leaf=1, max_samples=20000, max_features=1, max_depth=5, total=   0.7s\n",
      "[CV] n_estimators=30, min_samples_split=12, min_samples_leaf=1, max_samples=20000, max_features=1, max_depth=5 \n",
      "[CV]  n_estimators=30, min_samples_split=12, min_samples_leaf=1, max_samples=20000, max_features=1, max_depth=5, total=   0.7s\n",
      "[CV] n_estimators=130, min_samples_split=10, min_samples_leaf=1, max_samples=20000, max_features=auto, max_depth=3 \n",
      "[CV]  n_estimators=130, min_samples_split=10, min_samples_leaf=1, max_samples=20000, max_features=auto, max_depth=3, total=   2.4s\n",
      "[CV] n_estimators=130, min_samples_split=10, min_samples_leaf=1, max_samples=20000, max_features=auto, max_depth=3 \n",
      "[CV]  n_estimators=130, min_samples_split=10, min_samples_leaf=1, max_samples=20000, max_features=auto, max_depth=3, total=   2.5s\n",
      "[CV] n_estimators=130, min_samples_split=10, min_samples_leaf=1, max_samples=20000, max_features=auto, max_depth=3 \n",
      "[CV]  n_estimators=130, min_samples_split=10, min_samples_leaf=1, max_samples=20000, max_features=auto, max_depth=3, total=   2.4s\n",
      "[CV] n_estimators=90, min_samples_split=18, min_samples_leaf=7, max_samples=20000, max_features=1, max_depth=10 \n",
      "[CV]  n_estimators=90, min_samples_split=18, min_samples_leaf=7, max_samples=20000, max_features=1, max_depth=10, total=   1.7s\n",
      "[CV] n_estimators=90, min_samples_split=18, min_samples_leaf=7, max_samples=20000, max_features=1, max_depth=10 \n",
      "[CV]  n_estimators=90, min_samples_split=18, min_samples_leaf=7, max_samples=20000, max_features=1, max_depth=10, total=   1.7s\n",
      "[CV] n_estimators=90, min_samples_split=18, min_samples_leaf=7, max_samples=20000, max_features=1, max_depth=10 \n",
      "[CV]  n_estimators=90, min_samples_split=18, min_samples_leaf=7, max_samples=20000, max_features=1, max_depth=10, total=   1.7s\n",
      "[CV] n_estimators=50, min_samples_split=12, min_samples_leaf=13, max_samples=20000, max_features=sqrt, max_depth=10 \n",
      "[CV]  n_estimators=50, min_samples_split=12, min_samples_leaf=13, max_samples=20000, max_features=sqrt, max_depth=10, total=   1.4s\n",
      "[CV] n_estimators=50, min_samples_split=12, min_samples_leaf=13, max_samples=20000, max_features=sqrt, max_depth=10 \n",
      "[CV]  n_estimators=50, min_samples_split=12, min_samples_leaf=13, max_samples=20000, max_features=sqrt, max_depth=10, total=   1.4s\n",
      "[CV] n_estimators=50, min_samples_split=12, min_samples_leaf=13, max_samples=20000, max_features=sqrt, max_depth=10 \n",
      "[CV]  n_estimators=50, min_samples_split=12, min_samples_leaf=13, max_samples=20000, max_features=sqrt, max_depth=10, total=   1.4s\n",
      "[CV] n_estimators=50, min_samples_split=6, min_samples_leaf=9, max_samples=20000, max_features=sqrt, max_depth=3 \n",
      "[CV]  n_estimators=50, min_samples_split=6, min_samples_leaf=9, max_samples=20000, max_features=sqrt, max_depth=3, total=   0.8s\n",
      "[CV] n_estimators=50, min_samples_split=6, min_samples_leaf=9, max_samples=20000, max_features=sqrt, max_depth=3 \n",
      "[CV]  n_estimators=50, min_samples_split=6, min_samples_leaf=9, max_samples=20000, max_features=sqrt, max_depth=3, total=   0.8s\n",
      "[CV] n_estimators=50, min_samples_split=6, min_samples_leaf=9, max_samples=20000, max_features=sqrt, max_depth=3 \n",
      "[CV]  n_estimators=50, min_samples_split=6, min_samples_leaf=9, max_samples=20000, max_features=sqrt, max_depth=3, total=   0.8s\n",
      "[CV] n_estimators=10, min_samples_split=18, min_samples_leaf=15, max_samples=20000, max_features=0.5, max_depth=5 \n",
      "[CV]  n_estimators=10, min_samples_split=18, min_samples_leaf=15, max_samples=20000, max_features=0.5, max_depth=5, total=   0.5s\n",
      "[CV] n_estimators=10, min_samples_split=18, min_samples_leaf=15, max_samples=20000, max_features=0.5, max_depth=5 \n",
      "[CV]  n_estimators=10, min_samples_split=18, min_samples_leaf=15, max_samples=20000, max_features=0.5, max_depth=5, total=   0.5s\n",
      "[CV] n_estimators=10, min_samples_split=18, min_samples_leaf=15, max_samples=20000, max_features=0.5, max_depth=5 \n",
      "[CV]  n_estimators=10, min_samples_split=18, min_samples_leaf=15, max_samples=20000, max_features=0.5, max_depth=5, total=   0.5s\n",
      "[CV] n_estimators=90, min_samples_split=18, min_samples_leaf=11, max_samples=20000, max_features=sqrt, max_depth=3 \n",
      "[CV]  n_estimators=90, min_samples_split=18, min_samples_leaf=11, max_samples=20000, max_features=sqrt, max_depth=3, total=   1.2s\n",
      "[CV] n_estimators=90, min_samples_split=18, min_samples_leaf=11, max_samples=20000, max_features=sqrt, max_depth=3 \n",
      "[CV]  n_estimators=90, min_samples_split=18, min_samples_leaf=11, max_samples=20000, max_features=sqrt, max_depth=3, total=   1.2s\n",
      "[CV] n_estimators=90, min_samples_split=18, min_samples_leaf=11, max_samples=20000, max_features=sqrt, max_depth=3 \n",
      "[CV]  n_estimators=90, min_samples_split=18, min_samples_leaf=11, max_samples=20000, max_features=sqrt, max_depth=3, total=   1.2s\n",
      "[CV] n_estimators=30, min_samples_split=8, min_samples_leaf=1, max_samples=20000, max_features=auto, max_depth=10 \n",
      "[CV]  n_estimators=30, min_samples_split=8, min_samples_leaf=1, max_samples=20000, max_features=auto, max_depth=10, total=   1.5s\n",
      "[CV] n_estimators=30, min_samples_split=8, min_samples_leaf=1, max_samples=20000, max_features=auto, max_depth=10 \n",
      "[CV]  n_estimators=30, min_samples_split=8, min_samples_leaf=1, max_samples=20000, max_features=auto, max_depth=10, total=   1.5s\n",
      "[CV] n_estimators=30, min_samples_split=8, min_samples_leaf=1, max_samples=20000, max_features=auto, max_depth=10 \n",
      "[CV]  n_estimators=30, min_samples_split=8, min_samples_leaf=1, max_samples=20000, max_features=auto, max_depth=10, total=   1.5s\n",
      "[CV] n_estimators=10, min_samples_split=6, min_samples_leaf=13, max_samples=20000, max_features=sqrt, max_depth=3 \n",
      "[CV]  n_estimators=10, min_samples_split=6, min_samples_leaf=13, max_samples=20000, max_features=sqrt, max_depth=3, total=   0.4s\n",
      "[CV] n_estimators=10, min_samples_split=6, min_samples_leaf=13, max_samples=20000, max_features=sqrt, max_depth=3 \n",
      "[CV]  n_estimators=10, min_samples_split=6, min_samples_leaf=13, max_samples=20000, max_features=sqrt, max_depth=3, total=   0.4s\n",
      "[CV] n_estimators=10, min_samples_split=6, min_samples_leaf=13, max_samples=20000, max_features=sqrt, max_depth=3 \n",
      "[CV]  n_estimators=10, min_samples_split=6, min_samples_leaf=13, max_samples=20000, max_features=sqrt, max_depth=3, total=   0.4s\n",
      "[CV] n_estimators=170, min_samples_split=14, min_samples_leaf=5, max_samples=20000, max_features=1, max_depth=5 \n",
      "[CV]  n_estimators=170, min_samples_split=14, min_samples_leaf=5, max_samples=20000, max_features=1, max_depth=5, total=   1.9s\n",
      "[CV] n_estimators=170, min_samples_split=14, min_samples_leaf=5, max_samples=20000, max_features=1, max_depth=5 \n",
      "[CV]  n_estimators=170, min_samples_split=14, min_samples_leaf=5, max_samples=20000, max_features=1, max_depth=5, total=   1.9s\n",
      "[CV] n_estimators=170, min_samples_split=14, min_samples_leaf=5, max_samples=20000, max_features=1, max_depth=5 \n",
      "[CV]  n_estimators=170, min_samples_split=14, min_samples_leaf=5, max_samples=20000, max_features=1, max_depth=5, total=   1.9s\n",
      "[CV] n_estimators=70, min_samples_split=4, min_samples_leaf=15, max_samples=20000, max_features=1, max_depth=5 \n",
      "[CV]  n_estimators=70, min_samples_split=4, min_samples_leaf=15, max_samples=20000, max_features=1, max_depth=5, total=   1.0s\n",
      "[CV] n_estimators=70, min_samples_split=4, min_samples_leaf=15, max_samples=20000, max_features=1, max_depth=5 \n",
      "[CV]  n_estimators=70, min_samples_split=4, min_samples_leaf=15, max_samples=20000, max_features=1, max_depth=5, total=   1.0s\n",
      "[CV] n_estimators=70, min_samples_split=4, min_samples_leaf=15, max_samples=20000, max_features=1, max_depth=5 \n",
      "[CV]  n_estimators=70, min_samples_split=4, min_samples_leaf=15, max_samples=20000, max_features=1, max_depth=5, total=   1.0s\n",
      "[CV] n_estimators=10, min_samples_split=6, min_samples_leaf=9, max_samples=20000, max_features=auto, max_depth=5 \n",
      "[CV]  n_estimators=10, min_samples_split=6, min_samples_leaf=9, max_samples=20000, max_features=auto, max_depth=5, total=   0.6s\n",
      "[CV] n_estimators=10, min_samples_split=6, min_samples_leaf=9, max_samples=20000, max_features=auto, max_depth=5 \n",
      "[CV]  n_estimators=10, min_samples_split=6, min_samples_leaf=9, max_samples=20000, max_features=auto, max_depth=5, total=   0.6s\n",
      "[CV] n_estimators=10, min_samples_split=6, min_samples_leaf=9, max_samples=20000, max_features=auto, max_depth=5 \n",
      "[CV]  n_estimators=10, min_samples_split=6, min_samples_leaf=9, max_samples=20000, max_features=auto, max_depth=5, total=   0.5s\n",
      "[CV] n_estimators=50, min_samples_split=8, min_samples_leaf=5, max_samples=20000, max_features=sqrt, max_depth=5 \n",
      "[CV]  n_estimators=50, min_samples_split=8, min_samples_leaf=5, max_samples=20000, max_features=sqrt, max_depth=5, total=   0.9s\n",
      "[CV] n_estimators=50, min_samples_split=8, min_samples_leaf=5, max_samples=20000, max_features=sqrt, max_depth=5 \n",
      "[CV]  n_estimators=50, min_samples_split=8, min_samples_leaf=5, max_samples=20000, max_features=sqrt, max_depth=5, total=   0.9s\n",
      "[CV] n_estimators=50, min_samples_split=8, min_samples_leaf=5, max_samples=20000, max_features=sqrt, max_depth=5 \n",
      "[CV]  n_estimators=50, min_samples_split=8, min_samples_leaf=5, max_samples=20000, max_features=sqrt, max_depth=5, total=   0.9s\n",
      "[CV] n_estimators=30, min_samples_split=2, min_samples_leaf=7, max_samples=20000, max_features=auto, max_depth=5 \n",
      "[CV]  n_estimators=30, min_samples_split=2, min_samples_leaf=7, max_samples=20000, max_features=auto, max_depth=5, total=   1.1s\n",
      "[CV] n_estimators=30, min_samples_split=2, min_samples_leaf=7, max_samples=20000, max_features=auto, max_depth=5 \n",
      "[CV]  n_estimators=30, min_samples_split=2, min_samples_leaf=7, max_samples=20000, max_features=auto, max_depth=5, total=   1.1s\n",
      "[CV] n_estimators=30, min_samples_split=2, min_samples_leaf=7, max_samples=20000, max_features=auto, max_depth=5 \n",
      "[CV]  n_estimators=30, min_samples_split=2, min_samples_leaf=7, max_samples=20000, max_features=auto, max_depth=5, total=   1.1s\n",
      "[CV] n_estimators=150, min_samples_split=18, min_samples_leaf=9, max_samples=20000, max_features=0.5, max_depth=10 \n",
      "[CV]  n_estimators=150, min_samples_split=18, min_samples_leaf=9, max_samples=20000, max_features=0.5, max_depth=10, total=   4.0s\n",
      "[CV] n_estimators=150, min_samples_split=18, min_samples_leaf=9, max_samples=20000, max_features=0.5, max_depth=10 \n",
      "[CV]  n_estimators=150, min_samples_split=18, min_samples_leaf=9, max_samples=20000, max_features=0.5, max_depth=10, total=   4.0s\n",
      "[CV] n_estimators=150, min_samples_split=18, min_samples_leaf=9, max_samples=20000, max_features=0.5, max_depth=10 \n",
      "[CV]  n_estimators=150, min_samples_split=18, min_samples_leaf=9, max_samples=20000, max_features=0.5, max_depth=10, total=   4.0s\n",
      "[CV] n_estimators=190, min_samples_split=16, min_samples_leaf=7, max_samples=20000, max_features=auto, max_depth=5 \n",
      "[CV]  n_estimators=190, min_samples_split=16, min_samples_leaf=7, max_samples=20000, max_features=auto, max_depth=5, total=   4.6s\n",
      "[CV] n_estimators=190, min_samples_split=16, min_samples_leaf=7, max_samples=20000, max_features=auto, max_depth=5 \n",
      "[CV]  n_estimators=190, min_samples_split=16, min_samples_leaf=7, max_samples=20000, max_features=auto, max_depth=5, total=   4.7s\n",
      "[CV] n_estimators=190, min_samples_split=16, min_samples_leaf=7, max_samples=20000, max_features=auto, max_depth=5 \n",
      "[CV]  n_estimators=190, min_samples_split=16, min_samples_leaf=7, max_samples=20000, max_features=auto, max_depth=5, total=   4.7s\n",
      "[CV] n_estimators=150, min_samples_split=12, min_samples_leaf=15, max_samples=20000, max_features=1, max_depth=5 \n",
      "[CV]  n_estimators=150, min_samples_split=12, min_samples_leaf=15, max_samples=20000, max_features=1, max_depth=5, total=   1.7s\n",
      "[CV] n_estimators=150, min_samples_split=12, min_samples_leaf=15, max_samples=20000, max_features=1, max_depth=5 \n",
      "[CV]  n_estimators=150, min_samples_split=12, min_samples_leaf=15, max_samples=20000, max_features=1, max_depth=5, total=   1.7s\n",
      "[CV] n_estimators=150, min_samples_split=12, min_samples_leaf=15, max_samples=20000, max_features=1, max_depth=5 \n",
      "[CV]  n_estimators=150, min_samples_split=12, min_samples_leaf=15, max_samples=20000, max_features=1, max_depth=5, total=   1.7s\n",
      "[CV] n_estimators=70, min_samples_split=8, min_samples_leaf=1, max_samples=20000, max_features=0.5, max_depth=3 \n",
      "[CV]  n_estimators=70, min_samples_split=8, min_samples_leaf=1, max_samples=20000, max_features=0.5, max_depth=3, total=   1.1s\n",
      "[CV] n_estimators=70, min_samples_split=8, min_samples_leaf=1, max_samples=20000, max_features=0.5, max_depth=3 \n",
      "[CV]  n_estimators=70, min_samples_split=8, min_samples_leaf=1, max_samples=20000, max_features=0.5, max_depth=3, total=   1.4s\n",
      "[CV] n_estimators=70, min_samples_split=8, min_samples_leaf=1, max_samples=20000, max_features=0.5, max_depth=3 \n",
      "[CV]  n_estimators=70, min_samples_split=8, min_samples_leaf=1, max_samples=20000, max_features=0.5, max_depth=3, total=   1.4s\n",
      "[CV] n_estimators=50, min_samples_split=6, min_samples_leaf=3, max_samples=20000, max_features=sqrt, max_depth=10 \n",
      "[CV]  n_estimators=50, min_samples_split=6, min_samples_leaf=3, max_samples=20000, max_features=sqrt, max_depth=10, total=   1.7s\n",
      "[CV] n_estimators=50, min_samples_split=6, min_samples_leaf=3, max_samples=20000, max_features=sqrt, max_depth=10 \n",
      "[CV]  n_estimators=50, min_samples_split=6, min_samples_leaf=3, max_samples=20000, max_features=sqrt, max_depth=10, total=   1.7s\n",
      "[CV] n_estimators=50, min_samples_split=6, min_samples_leaf=3, max_samples=20000, max_features=sqrt, max_depth=10 \n",
      "[CV]  n_estimators=50, min_samples_split=6, min_samples_leaf=3, max_samples=20000, max_features=sqrt, max_depth=10, total=   1.8s\n",
      "[CV] n_estimators=30, min_samples_split=18, min_samples_leaf=9, max_samples=20000, max_features=1, max_depth=10 \n",
      "[CV]  n_estimators=30, min_samples_split=18, min_samples_leaf=9, max_samples=20000, max_features=1, max_depth=10, total=   1.0s\n",
      "[CV] n_estimators=30, min_samples_split=18, min_samples_leaf=9, max_samples=20000, max_features=1, max_depth=10 \n",
      "[CV]  n_estimators=30, min_samples_split=18, min_samples_leaf=9, max_samples=20000, max_features=1, max_depth=10, total=   1.0s\n",
      "[CV] n_estimators=30, min_samples_split=18, min_samples_leaf=9, max_samples=20000, max_features=1, max_depth=10 \n",
      "[CV]  n_estimators=30, min_samples_split=18, min_samples_leaf=9, max_samples=20000, max_features=1, max_depth=10, total=   0.8s\n",
      "[CV] n_estimators=150, min_samples_split=8, min_samples_leaf=15, max_samples=20000, max_features=1, max_depth=10 \n",
      "[CV]  n_estimators=150, min_samples_split=8, min_samples_leaf=15, max_samples=20000, max_features=1, max_depth=10, total=   2.7s\n",
      "[CV] n_estimators=150, min_samples_split=8, min_samples_leaf=15, max_samples=20000, max_features=1, max_depth=10 \n",
      "[CV]  n_estimators=150, min_samples_split=8, min_samples_leaf=15, max_samples=20000, max_features=1, max_depth=10, total=   2.6s\n",
      "[CV] n_estimators=150, min_samples_split=8, min_samples_leaf=15, max_samples=20000, max_features=1, max_depth=10 \n",
      "[CV]  n_estimators=150, min_samples_split=8, min_samples_leaf=15, max_samples=20000, max_features=1, max_depth=10, total=   2.6s\n"
     ]
    },
    {
     "name": "stderr",
     "output_type": "stream",
     "text": [
      "[Parallel(n_jobs=1)]: Done 300 out of 300 | elapsed:  8.6min finished\n"
     ]
    },
    {
     "name": "stdout",
     "output_type": "stream",
     "text": [
      "CPU times: user 8min 1s, sys: 23.4 s, total: 8min 25s\n",
      "Wall time: 8min 37s\n"
     ]
    }
   ],
   "source": [
    "%%time\n",
    "from sklearn.model_selection import RandomizedSearchCV\n",
    "\n",
    "# Different RandomForestRegressor hyperparameters\n",
    "rf_grid = {\"n_estimators\": np.arange(10, 200, 20),\n",
    "           \"max_depth\": [3, 5, 10],\n",
    "           \"min_samples_split\": np.arange(2, 20, 2),\n",
    "           \"min_samples_leaf\": np.arange(1, 20, 2),\n",
    "           \"max_features\": [0.5, 1, \"sqrt\", \"auto\"],\n",
    "           \"max_samples\": [20000]}\n",
    "\n",
    "# Instantiate RandomizedSearchCV model\n",
    "rs_model = RandomizedSearchCV(RandomForestRegressor(n_jobs=-1,\n",
    "                                                    random_state=42),\n",
    "                              param_distributions=rf_grid,\n",
    "                              n_iter=100,\n",
    "                              cv=3,\n",
    "                              verbose=2)\n",
    "\n",
    "# Fit the RandomizedSearchCV model\n",
    "rs_model.fit(x_train, y_train)"
   ]
  },
  {
   "cell_type": "markdown",
   "metadata": {
    "id": "KWaSpyHvbJcq"
   },
   "source": [
    "### THe best parameters for 20k sample size are as follows"
   ]
  },
  {
   "cell_type": "code",
   "execution_count": 31,
   "metadata": {
    "colab": {
     "base_uri": "https://localhost:8080/"
    },
    "executionInfo": {
     "elapsed": 753,
     "status": "ok",
     "timestamp": 1608338633330,
     "user": {
      "displayName": "DHEERAJ REDDY",
      "photoUrl": "https://lh3.googleusercontent.com/a-/AOh14Gh45EQPcAK5AL2_gtleWsUeAttrKpxePeuFgQ32RA=s64",
      "userId": "02470942850935130674"
     },
     "user_tz": 300
    },
    "id": "ibUtgjm6aM-J",
    "outputId": "b9ae3613-658f-4768-d7a2-0351685dfc9a"
   },
   "outputs": [
    {
     "data": {
      "text/plain": [
       "{'max_depth': 10,\n",
       " 'max_features': 'auto',\n",
       " 'max_samples': 20000,\n",
       " 'min_samples_leaf': 1,\n",
       " 'min_samples_split': 8,\n",
       " 'n_estimators': 30}"
      ]
     },
     "execution_count": 31,
     "metadata": {
      "tags": []
     },
     "output_type": "execute_result"
    }
   ],
   "source": [
    "rs_model.best_params_"
   ]
  },
  {
   "cell_type": "code",
   "execution_count": 34,
   "metadata": {
    "colab": {
     "base_uri": "https://localhost:8080/"
    },
    "executionInfo": {
     "elapsed": 995,
     "status": "ok",
     "timestamp": 1608338661038,
     "user": {
      "displayName": "DHEERAJ REDDY",
      "photoUrl": "https://lh3.googleusercontent.com/a-/AOh14Gh45EQPcAK5AL2_gtleWsUeAttrKpxePeuFgQ32RA=s64",
      "userId": "02470942850935130674"
     },
     "user_tz": 300
    },
    "id": "DRjyjPp0Yo6f",
    "outputId": "604c60e0-5e35-4dc6-d67c-8ce710e0044a"
   },
   "outputs": [
    {
     "data": {
      "text/plain": [
       "{'Mean Absolute Error': 1760.3502865749617,\n",
       " 'Mean Squared Error': 5806766.805154214,\n",
       " 'Mean Squared Percentage Error': 0.44750409442064426}"
      ]
     },
     "execution_count": 34,
     "metadata": {
      "tags": []
     },
     "output_type": "execute_result"
    }
   ],
   "source": [
    "y_pred = rs_model.predict(x_train)\n",
    "get_metrics(y_train,y_pred)"
   ]
  },
  {
   "cell_type": "code",
   "execution_count": 35,
   "metadata": {
    "colab": {
     "base_uri": "https://localhost:8080/"
    },
    "executionInfo": {
     "elapsed": 966,
     "status": "ok",
     "timestamp": 1608338678026,
     "user": {
      "displayName": "DHEERAJ REDDY",
      "photoUrl": "https://lh3.googleusercontent.com/a-/AOh14Gh45EQPcAK5AL2_gtleWsUeAttrKpxePeuFgQ32RA=s64",
      "userId": "02470942850935130674"
     },
     "user_tz": 300
    },
    "id": "sRwwvBoJaJX-",
    "outputId": "5a68e6a4-5101-4a22-ccd3-d222a47481fa"
   },
   "outputs": [
    {
     "data": {
      "text/plain": [
       "{'Mean Absolute Error': 1766.9434137032986,\n",
       " 'Mean Squared Error': 5880482.591579018,\n",
       " 'Mean Squared Percentage Error': 0.430154187892323}"
      ]
     },
     "execution_count": 35,
     "metadata": {
      "tags": []
     },
     "output_type": "execute_result"
    }
   ],
   "source": [
    "y_pred = rs_model.predict(x_val)\n",
    "get_metrics(y_val,y_pred)"
   ]
  },
  {
   "cell_type": "markdown",
   "metadata": {
    "id": "3t_mAqw6cN1t"
   },
   "source": [
    "### Inserting best parameters into the model"
   ]
  },
  {
   "cell_type": "code",
   "execution_count": 36,
   "metadata": {
    "colab": {
     "base_uri": "https://localhost:8080/"
    },
    "executionInfo": {
     "elapsed": 13354,
     "status": "ok",
     "timestamp": 1608338766281,
     "user": {
      "displayName": "DHEERAJ REDDY",
      "photoUrl": "https://lh3.googleusercontent.com/a-/AOh14Gh45EQPcAK5AL2_gtleWsUeAttrKpxePeuFgQ32RA=s64",
      "userId": "02470942850935130674"
     },
     "user_tz": 300
    },
    "id": "UYljOGUxbEHT",
    "outputId": "2a1df515-20bf-4b96-c68a-572dcfb60130"
   },
   "outputs": [
    {
     "data": {
      "text/plain": [
       "RandomForestRegressor(bootstrap=True, ccp_alpha=0.0, criterion='mse',\n",
       "                      max_depth=10, max_features='auto', max_leaf_nodes=None,\n",
       "                      max_samples=300000, min_impurity_decrease=0.0,\n",
       "                      min_impurity_split=None, min_samples_leaf=1,\n",
       "                      min_samples_split=8, min_weight_fraction_leaf=0.0,\n",
       "                      n_estimators=30, n_jobs=-1, oob_score=False,\n",
       "                      random_state=42, verbose=0, warm_start=False)"
      ]
     },
     "execution_count": 36,
     "metadata": {
      "tags": []
     },
     "output_type": "execute_result"
    }
   ],
   "source": [
    "rfr_modified = RandomForestRegressor(n_jobs=-1,\n",
    "                              random_state=42,\n",
    "                              max_samples=300000,\n",
    "                              max_depth= 10,\n",
    "                              max_features= 'auto',\n",
    "                              min_samples_leaf= 1,\n",
    "                              min_samples_split= 8,\n",
    "                              n_estimators= 30)\n",
    "rfr_modified.fit(x_train,y_train)"
   ]
  },
  {
   "cell_type": "code",
   "execution_count": 38,
   "metadata": {
    "colab": {
     "base_uri": "https://localhost:8080/"
    },
    "executionInfo": {
     "elapsed": 1227,
     "status": "ok",
     "timestamp": 1608338780234,
     "user": {
      "displayName": "DHEERAJ REDDY",
      "photoUrl": "https://lh3.googleusercontent.com/a-/AOh14Gh45EQPcAK5AL2_gtleWsUeAttrKpxePeuFgQ32RA=s64",
      "userId": "02470942850935130674"
     },
     "user_tz": 300
    },
    "id": "IKmJyjPoUaP1",
    "outputId": "be30e7f4-2bc7-4b48-ccaf-192b5ce77298"
   },
   "outputs": [
    {
     "data": {
      "text/plain": [
       "{'Mean Absolute Error': 1728.7407184557067,\n",
       " 'Mean Squared Error': 5615826.126705838,\n",
       " 'Mean Squared Percentage Error': 0.4435827386322419}"
      ]
     },
     "execution_count": 38,
     "metadata": {
      "tags": []
     },
     "output_type": "execute_result"
    }
   ],
   "source": [
    "y_pred = rfr_modified.predict(x_train)\n",
    "get_metrics(y_train,y_pred)"
   ]
  },
  {
   "cell_type": "code",
   "execution_count": 39,
   "metadata": {
    "colab": {
     "base_uri": "https://localhost:8080/"
    },
    "executionInfo": {
     "elapsed": 1019,
     "status": "ok",
     "timestamp": 1608338805787,
     "user": {
      "displayName": "DHEERAJ REDDY",
      "photoUrl": "https://lh3.googleusercontent.com/a-/AOh14Gh45EQPcAK5AL2_gtleWsUeAttrKpxePeuFgQ32RA=s64",
      "userId": "02470942850935130674"
     },
     "user_tz": 300
    },
    "id": "3kZjr77_Unta",
    "outputId": "a3fe6707-7dae-4a34-b29f-262903728288"
   },
   "outputs": [
    {
     "data": {
      "text/plain": [
       "{'Mean Absolute Error': 1739.5163108459712,\n",
       " 'Mean Squared Error': 5723848.565043277,\n",
       " 'Mean Squared Percentage Error': 0.4258054249898184}"
      ]
     },
     "execution_count": 39,
     "metadata": {
      "tags": []
     },
     "output_type": "execute_result"
    }
   ],
   "source": [
    "y_pred = rfr_modified.predict(x_val)\n",
    "get_metrics(y_val,y_pred)"
   ]
  },
  {
   "cell_type": "markdown",
   "metadata": {
    "id": "qG3JVU7ABVOb"
   },
   "source": [
    "### Try XGBoost regressor"
   ]
  },
  {
   "cell_type": "code",
   "execution_count": 41,
   "metadata": {
    "executionInfo": {
     "elapsed": 432,
     "status": "ok",
     "timestamp": 1608338851764,
     "user": {
      "displayName": "DHEERAJ REDDY",
      "photoUrl": "https://lh3.googleusercontent.com/a-/AOh14Gh45EQPcAK5AL2_gtleWsUeAttrKpxePeuFgQ32RA=s64",
      "userId": "02470942850935130674"
     },
     "user_tz": 300
    },
    "id": "AzuWCZK0VD0r"
   },
   "outputs": [],
   "source": [
    "import xgboost\n",
    "regressor = xgboost.XGBRegressor(verbose = 1)"
   ]
  },
  {
   "cell_type": "code",
   "execution_count": 42,
   "metadata": {
    "colab": {
     "base_uri": "https://localhost:8080/"
    },
    "executionInfo": {
     "elapsed": 40445,
     "status": "ok",
     "timestamp": 1608338892856,
     "user": {
      "displayName": "DHEERAJ REDDY",
      "photoUrl": "https://lh3.googleusercontent.com/a-/AOh14Gh45EQPcAK5AL2_gtleWsUeAttrKpxePeuFgQ32RA=s64",
      "userId": "02470942850935130674"
     },
     "user_tz": 300
    },
    "id": "xOiPlsjtHDJN",
    "outputId": "6395174f-d49c-43ca-f04d-1f5cbdf31730"
   },
   "outputs": [
    {
     "name": "stdout",
     "output_type": "stream",
     "text": [
      "[00:47:33] WARNING: /workspace/src/objective/regression_obj.cu:152: reg:linear is now deprecated in favor of reg:squarederror.\n"
     ]
    },
    {
     "data": {
      "text/plain": [
       "XGBRegressor(base_score=0.5, booster='gbtree', colsample_bylevel=1,\n",
       "             colsample_bynode=1, colsample_bytree=1, gamma=0,\n",
       "             importance_type='gain', learning_rate=0.1, max_delta_step=0,\n",
       "             max_depth=3, min_child_weight=1, missing=None, n_estimators=100,\n",
       "             n_jobs=1, nthread=None, objective='reg:linear', random_state=0,\n",
       "             reg_alpha=0, reg_lambda=1, scale_pos_weight=1, seed=None,\n",
       "             silent=None, subsample=1, verbose=1, verbosity=1)"
      ]
     },
     "execution_count": 42,
     "metadata": {
      "tags": []
     },
     "output_type": "execute_result"
    }
   ],
   "source": [
    "regressor.fit(x_train,y_train)"
   ]
  },
  {
   "cell_type": "code",
   "execution_count": 44,
   "metadata": {
    "colab": {
     "base_uri": "https://localhost:8080/"
    },
    "executionInfo": {
     "elapsed": 2818,
     "status": "ok",
     "timestamp": 1608338924831,
     "user": {
      "displayName": "DHEERAJ REDDY",
      "photoUrl": "https://lh3.googleusercontent.com/a-/AOh14Gh45EQPcAK5AL2_gtleWsUeAttrKpxePeuFgQ32RA=s64",
      "userId": "02470942850935130674"
     },
     "user_tz": 300
    },
    "id": "UJXHmoblIKgU",
    "outputId": "905f4a23-bc40-4432-88d1-e610f37c5bdf"
   },
   "outputs": [
    {
     "data": {
      "text/plain": [
       "{'Mean Absolute Error': 1818.5666576376198,\n",
       " 'Mean Squared Error': 6270714.770449938,\n",
       " 'Mean Squared Percentage Error': 0.48416180687280247}"
      ]
     },
     "execution_count": 44,
     "metadata": {
      "tags": []
     },
     "output_type": "execute_result"
    }
   ],
   "source": [
    "y_pred = regressor.predict(x_train)\n",
    "get_metrics(y_train,y_pred)"
   ]
  },
  {
   "cell_type": "code",
   "execution_count": 48,
   "metadata": {
    "colab": {
     "base_uri": "https://localhost:8080/"
    },
    "executionInfo": {
     "elapsed": 993,
     "status": "ok",
     "timestamp": 1608339187463,
     "user": {
      "displayName": "DHEERAJ REDDY",
      "photoUrl": "https://lh3.googleusercontent.com/a-/AOh14Gh45EQPcAK5AL2_gtleWsUeAttrKpxePeuFgQ32RA=s64",
      "userId": "02470942850935130674"
     },
     "user_tz": 300
    },
    "id": "3vT_h20_7X1c",
    "outputId": "83644817-3548-4470-ee5d-4101b23403b8"
   },
   "outputs": [
    {
     "data": {
      "text/plain": [
       "{'Mean Absolute Error': 1821.6971248443604,\n",
       " 'Mean Squared Error': 6310267.145302243,\n",
       " 'Mean Squared Percentage Error': 0.45324105387957453}"
      ]
     },
     "execution_count": 48,
     "metadata": {
      "tags": []
     },
     "output_type": "execute_result"
    }
   ],
   "source": [
    "y_pred = regressor.predict(x_val)\n",
    "get_metrics(y_val,y_pred)"
   ]
  },
  {
   "cell_type": "markdown",
   "metadata": {
    "id": "6B2PVzgRd5Z6"
   },
   "source": [
    "### Models Evaluation:"
   ]
  },
  {
   "cell_type": "code",
   "execution_count": 57,
   "metadata": {
    "executionInfo": {
     "elapsed": 20108,
     "status": "ok",
     "timestamp": 1608339589297,
     "user": {
      "displayName": "DHEERAJ REDDY",
      "photoUrl": "https://lh3.googleusercontent.com/a-/AOh14Gh45EQPcAK5AL2_gtleWsUeAttrKpxePeuFgQ32RA=s64",
      "userId": "02470942850935130674"
     },
     "user_tz": 300
    },
    "id": "FSy13ug7eQMo"
   },
   "outputs": [],
   "source": [
    "models = {'Random_forest': rfr, 'Tuned Random Forest' : rfr_modified, 'XGBoost': regressor}\n",
    "train_metrics = {}\n",
    "validation_metrics = {}\n",
    "for key,model in models.items():\n",
    "    y_pred = model.predict(x_train)\n",
    "    y_val_pred = model.predict(x_val)\n",
    "    train_metrics[key] = get_metrics(y_train,y_pred)\n",
    "    validation_metrics[key] = get_metrics(y_val,y_val_pred)"
   ]
  },
  {
   "cell_type": "code",
   "execution_count": 61,
   "metadata": {
    "colab": {
     "base_uri": "https://localhost:8080/"
    },
    "executionInfo": {
     "elapsed": 735,
     "status": "ok",
     "timestamp": 1608339902837,
     "user": {
      "displayName": "DHEERAJ REDDY",
      "photoUrl": "https://lh3.googleusercontent.com/a-/AOh14Gh45EQPcAK5AL2_gtleWsUeAttrKpxePeuFgQ32RA=s64",
      "userId": "02470942850935130674"
     },
     "user_tz": 300
    },
    "id": "yfUycXynfb76",
    "outputId": "c8275498-3890-466f-f075-9c17d5dc7e55"
   },
   "outputs": [
    {
     "name": "stdout",
     "output_type": "stream",
     "text": [
      "Metrics for Random_forest model:\n",
      "\n",
      "Training metrics : \n",
      "\n",
      "{'Mean Squared Error': 1957657.3049824145, 'Mean Absolute Error': 899.2803573037626, 'Mean Squared Percentage Error': 0.2619065233543824}\n",
      "\n",
      "\n",
      "Validation metrics : \n",
      "\n",
      "{'Mean Squared Error': 2594947.316954761, 'Mean Absolute Error': 1037.3568934466182, 'Mean Squared Percentage Error': 0.26064463361655377}\n",
      "\n",
      "\n",
      "\n",
      "Metrics for Tuned Random Forest model:\n",
      "\n",
      "Training metrics : \n",
      "\n",
      "{'Mean Squared Error': 5615826.126705838, 'Mean Absolute Error': 1728.7407184557067, 'Mean Squared Percentage Error': 0.4435827386322419}\n",
      "\n",
      "\n",
      "Validation metrics : \n",
      "\n",
      "{'Mean Squared Error': 5723848.565043277, 'Mean Absolute Error': 1739.5163108459712, 'Mean Squared Percentage Error': 0.4258054249898184}\n",
      "\n",
      "\n",
      "\n",
      "Metrics for XGBoost model:\n",
      "\n",
      "Training metrics : \n",
      "\n",
      "{'Mean Squared Error': 6270714.770449938, 'Mean Absolute Error': 1818.5666576376198, 'Mean Squared Percentage Error': 0.48416180687280247}\n",
      "\n",
      "\n",
      "Validation metrics : \n",
      "\n",
      "{'Mean Squared Error': 6310267.145302243, 'Mean Absolute Error': 1821.6971248443604, 'Mean Squared Percentage Error': 0.45324105387957453}\n",
      "\n",
      "\n",
      "\n"
     ]
    }
   ],
   "source": [
    "for key in train_metrics.keys():\n",
    "    print(f'Metrics for {key} model:\\n')\n",
    "    print(f'Training metrics : \\n')\n",
    "    print(train_metrics[key])\n",
    "    print(f'\\n')\n",
    "    print(f'Validation metrics : \\n')\n",
    "    print(validation_metrics[key])\n",
    "    print(f'\\n\\n')"
   ]
  },
  {
   "cell_type": "markdown",
   "metadata": {
    "id": "_mC-0DxsiMK5"
   },
   "source": [
    "#### Random Forest Regressor has the lowest Mean squared percentage error and that is chosen as the final model"
   ]
  },
  {
   "cell_type": "code",
   "execution_count": 31,
   "metadata": {
    "executionInfo": {
     "elapsed": 12774,
     "status": "ok",
     "timestamp": 1608340080049,
     "user": {
      "displayName": "DHEERAJ REDDY",
      "photoUrl": "https://lh3.googleusercontent.com/a-/AOh14Gh45EQPcAK5AL2_gtleWsUeAttrKpxePeuFgQ32RA=s64",
      "userId": "02470942850935130674"
     },
     "user_tz": 300
    },
    "id": "_cwOUZxs0FQo"
   },
   "outputs": [],
   "source": [
    "import pickle\n",
    "from pathlib import Path\n",
    "path = str(Path(os.getcwd()).parent)\n",
    "fileloc = os.path.join(path,'Delivery and Acceptance','randomforest.pkl')\n",
    "pickle.dump(rfr, open(fileloc, 'wb'))"
   ]
  },
  {
   "cell_type": "markdown",
   "metadata": {
    "id": "NNwEBTS636Ir"
   },
   "source": [
    "## Prediction"
   ]
  },
  {
   "cell_type": "code",
   "execution_count": null,
   "metadata": {
    "id": "ZVuUgOKAGXiz"
   },
   "outputs": [],
   "source": [
    "import datetime\n",
    "def predict(input_dict,model):\n",
    "    predict_dict = {}\n",
    "    date = datetime.datetime.strptime(input_dict['Date'], '%Y-%m-%d')\n",
    "    if input_dict['State_holiday'] != 0 or date.weekday()==6:\n",
    "        return 0\n",
    "    else:\n",
    "        predict_dict['Assortment']=[cat_dict[input_dict['Assortment']]]\n",
    "        predict_dict['StoreType']=[cat_dict[input_dict['StoreType']]]\n",
    "        predict_dict['DayofMonth'] = [date.day]\n",
    "        predict_dict['Month'] = [date.month]\n",
    "        predict_dict['DayOfWeek'] = [date.weekday()+1]\n",
    "        predict_dict['SchoolHoliday'] = [input_dict['School_holiday']]\n",
    "        predict_dict['Promo'] = [input_dict['Promo1']]\n",
    "        predict_dict['hasPromo2'] = [input_dict['Promo2']]\n",
    "        predict_dict['IsCompetitionOpen'] = input_dict['Competition_exists']\n",
    "        predict_dict['CompetitionDistance']=[input_dict['CompetitionDistance']]\n",
    "        predict_dict['DayofYear'] = [(date - datetime.datetime(date.year, 1, 1)).days + 1]\n",
    "        df = pd.DataFrame.from_dict(predict_dict)\n",
    "        return model.predict(df).astype(int)[0]\n",
    "    "
   ]
  },
  {
   "cell_type": "code",
   "execution_count": null,
   "metadata": {
    "id": "s9UUCAGnEwbg"
   },
   "outputs": [],
   "source": [
    "## Sample prediction inputs\n",
    "Input_dict = {\n",
    "'Date' : '2015-12-18',\n",
    "'Assortment' : 'a',\n",
    "'StoreType' : 'b',\n",
    "'Promo1' : 1,\n",
    "'Promo2' : 0,\n",
    "'State_holiday' : 0,\n",
    "'School_holiday' : 1,\n",
    "'Competition_exists' : 1,\n",
    "'CompetitionDistance' : 4000\n",
    "}\n",
    "cat_dict = {'a':1,'b':2,'c':3,'d':4}"
   ]
  },
  {
   "cell_type": "code",
   "execution_count": null,
   "metadata": {
    "colab": {
     "base_uri": "https://localhost:8080/"
    },
    "executionInfo": {
     "elapsed": 413,
     "status": "ok",
     "timestamp": 1608266372885,
     "user": {
      "displayName": "DHEERAJ REDDY",
      "photoUrl": "https://lh3.googleusercontent.com/a-/AOh14Gh45EQPcAK5AL2_gtleWsUeAttrKpxePeuFgQ32RA=s64",
      "userId": "02470942850935130674"
     },
     "user_tz": 300
    },
    "id": "lTs_OJJHh_1w",
    "outputId": "dcabe2c2-8e05-486e-b111-8723e428fe77"
   },
   "outputs": [
    {
     "data": {
      "text/plain": [
       "9097"
      ]
     },
     "execution_count": 84,
     "metadata": {
      "tags": []
     },
     "output_type": "execute_result"
    }
   ],
   "source": [
    "predict(Input_dict,loaded_model)"
   ]
  }
 ],
 "metadata": {
  "colab": {
   "collapsed_sections": [
    "7OAmok4Li_vD",
    "v9LL4UM0i_vF"
   ],
   "machine_shape": "hm",
   "name": "Data Exploration.ipynb",
   "provenance": [],
   "toc_visible": true
  },
  "kernelspec": {
   "display_name": "Python 3",
   "language": "python",
   "name": "python3"
  },
  "language_info": {
   "codemirror_mode": {
    "name": "ipython",
    "version": 3
   },
   "file_extension": ".py",
   "mimetype": "text/x-python",
   "name": "python",
   "nbconvert_exporter": "python",
   "pygments_lexer": "ipython3",
   "version": "3.8.2"
  }
 },
 "nbformat": 4,
 "nbformat_minor": 1
}
